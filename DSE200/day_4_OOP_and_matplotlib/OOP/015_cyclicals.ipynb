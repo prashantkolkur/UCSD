{
 "cells": [
  {
   "cell_type": "markdown",
   "metadata": {},
   "source": [
    "### An example of the utility of classes"
   ]
  },
  {
   "cell_type": "code",
   "execution_count": 1,
   "metadata": {},
   "outputs": [
    {
     "name": "stdout",
     "output_type": "stream",
     "text": [
      "A B C D E A B C D E A B C D E A B C D E A B C D E A B C D E A B\n"
     ]
    }
   ],
   "source": [
    "# cycle 10 times through the string ABCDE\n",
    "s='ABCDE'\n",
    "j=0\n",
    "for i in range(32):\n",
    "    print s[j],\n",
    "    j=(j+1)%5"
   ]
  },
  {
   "cell_type": "code",
   "execution_count": 2,
   "metadata": {},
   "outputs": [
    {
     "name": "stdout",
     "output_type": "stream",
     "text": [
      "1 2 3 4 5 6 7 8 9 10 1 2 3 4 5 6 7 8 9\n"
     ]
    }
   ],
   "source": [
    "# cycle through the numbers 1-10\n",
    "G=range(1,11)\n",
    "j=0\n",
    "for i in range(19):\n",
    "    print G[j],\n",
    "    j=(j+1)%10"
   ]
  },
  {
   "cell_type": "code",
   "execution_count": 3,
   "metadata": {},
   "outputs": [
    {
     "name": "stdout",
     "output_type": "stream",
     "text": [
      "A C 1 E B 2 D A 3 C E 4 B D 5 A C 6 E B 7 D A 8 C E 9 B D 10 A C 1 E B 2 D A 3\n"
     ]
    }
   ],
   "source": [
    "# Suppose we want to cycle through both, taking two elements from s and one element from G on each cycle\n",
    "j1=j2=0\n",
    "for i in range(13):\n",
    "    print s[j1],\n",
    "    j1=(j1+2)%5\n",
    "    print s[j1],\n",
    "    j1=(j1+2)%5\n",
    "\n",
    "    print G[j2],\n",
    "    j2=(j2+1)%10"
   ]
  },
  {
   "cell_type": "markdown",
   "metadata": {},
   "source": [
    "## This code is complex, poor resuse\n",
    "\n",
    "We will simplify it by defining a class"
   ]
  },
  {
   "cell_type": "code",
   "execution_count": 13,
   "metadata": {
    "collapsed": true
   },
   "outputs": [],
   "source": [
    "class cyclic:\n",
    "    def __init__(self,_list):\n",
    "        self.list=_list\n",
    "        self.j=0\n",
    "        self.n=len(_list)\n",
    "    def next(self):\n",
    "        j=self.j\n",
    "        self.j=(self.j+1) % self.n\n",
    "        return self.list[j]\n",
    "    def reset(self):\n",
    "        self.j=0\n",
    "    "
   ]
  },
  {
   "cell_type": "code",
   "execution_count": 14,
   "metadata": {},
   "outputs": [
    {
     "name": "stdout",
     "output_type": "stream",
     "text": [
      "A B C D E A B C D E A B C D E A B C D E A B C D E A B C D E A B C\n"
     ]
    }
   ],
   "source": [
    "s=cyclic('ABCDE')\n",
    "for i in range(33):\n",
    "    print s.next(),"
   ]
  },
  {
   "cell_type": "code",
   "execution_count": null,
   "metadata": {
    "collapsed": true
   },
   "outputs": [],
   "source": [
    "G=cyclic(range(1,11))\n",
    "for i in range(33):\n",
    "    print G.next(),"
   ]
  },
  {
   "cell_type": "code",
   "execution_count": null,
   "metadata": {
    "collapsed": true
   },
   "outputs": [],
   "source": [
    "# now printing a cycle with two of one and one of the other is simple\n",
    "s.reset(); G.reset()\n",
    "for i in range(10):\n",
    "    print s.next(),s.next(),G.next(),"
   ]
  },
  {
   "cell_type": "code",
   "execution_count": null,
   "metadata": {
    "collapsed": true
   },
   "outputs": [],
   "source": [
    "# and now for something fancy\n",
    "\n",
    "L=[]\n",
    "for i in range(10):\n",
    "    L.append(cyclic(range(i+1)))\n",
    "#print L\n",
    "for i in range(12):\n",
    "    print 'i=',i,':::\\t',\n",
    "    for c in L:\n",
    "        print c.next(),\n",
    "    print"
   ]
  },
  {
   "cell_type": "code",
   "execution_count": null,
   "metadata": {
    "collapsed": true
   },
   "outputs": [],
   "source": []
  }
 ],
 "metadata": {
  "kernelspec": {
   "display_name": "Python 2",
   "language": "python",
   "name": "python2"
  },
  "language_info": {
   "codemirror_mode": {
    "name": "ipython",
    "version": 2
   },
   "file_extension": ".py",
   "mimetype": "text/x-python",
   "name": "python",
   "nbconvert_exporter": "python",
   "pygments_lexer": "ipython2",
   "version": "2.7.13"
  },
  "toc": {
   "colors": {
    "hover_highlight": "#DAA520",
    "navigate_num": "#000000",
    "navigate_text": "#333333",
    "running_highlight": "#FF0000",
    "selected_highlight": "#FFD700",
    "sidebar_border": "#EEEEEE",
    "wrapper_background": "#FFFFFF"
   },
   "moveMenuLeft": true,
   "nav_menu": {
    "height": "48px",
    "width": "252px"
   },
   "navigate_menu": true,
   "number_sections": true,
   "sideBar": true,
   "threshold": 4,
   "toc_cell": false,
   "toc_section_display": "block",
   "toc_window_display": false,
   "widenNotebook": false
  }
 },
 "nbformat": 4,
 "nbformat_minor": 2
}
