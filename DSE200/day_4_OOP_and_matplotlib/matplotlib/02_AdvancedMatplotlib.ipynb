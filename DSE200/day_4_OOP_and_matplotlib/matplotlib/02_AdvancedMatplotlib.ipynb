{
 "cells": [
  {
   "cell_type": "markdown",
   "metadata": {
    "slideshow": {
     "slide_type": "skip"
    }
   },
   "source": [
    "<style>\n",
    "div.cell, div.text_cell_render{\n",
    "  max-width:750px;\n",
    "  margin-left:auto;\n",
    "  margin-right:auto;\n",
    "}\n",
    "\n",
    ".rendered_html\n",
    "{\n",
    "  font-size: 140%;\n",
    "  }\n",
    "\n",
    ".rendered_html li\n",
    "{\n",
    "  line-height: 1.8;\n",
    "  }\n",
    "\n",
    ".rendered_html h1, h2 {\n",
    "  text-align:center;\n",
    "  font-familly:\"Charis SIL\", serif;\n",
    "}\n",
    "\n",
    ".input_prompt, .CodeMirror-lines, .output_area\n",
    "{\n",
    "  font-family: Consolas;\n",
    "  font-size: 110%;\n",
    "  }\n",
    "</style>"
   ]
  },
  {
   "cell_type": "markdown",
   "metadata": {},
   "source": [
    "<small><i>This notebook was put together by [Jake Vanderplas](http://www.vanderplas.com) for UW's [Astro 599](http://www.astro.washington.edu/users/vanderplas/Astr599/) course. Source and license info is on [GitHub](https://github.com/jakevdp/2013_fall_ASTR599/).</i></small>"
   ]
  },
  {
   "cell_type": "markdown",
   "metadata": {
    "slideshow": {
     "slide_type": "slide"
    }
   },
   "source": [
    "# Matplotlib In-depth\n",
    "\n",
    "We've discussed some of the basic interface to matplotlib plots previously.  Here we'll go a bit more in-depth, and discuss things like multi-panel plots, inset plots, axes formatting, and much more.\n",
    "\n",
    "To see the way the Matplotlib code is organized, see the github repository here: https://github.com/matplotlib/matplotlib/tree/master/lib/matplotlib\n",
    "\n",
    "## Summary\n",
    "\n",
    "1. Matplotlib in the IPython notebook\n",
    "2. Matplotlib's two interfaces: scripted and object-oriented\n",
    "3. Layouts: four ways to create multi-panel plots\n",
    "4. Formatters & Locators: customizing your axis labels\n",
    "5. Global settings: the matplotlibrc file"
   ]
  },
  {
   "cell_type": "markdown",
   "metadata": {
    "slideshow": {
     "slide_type": "slide"
    }
   },
   "source": [
    "## Matplotlib in the IPython notebook\n",
    "\n",
    "IPython has a ``pylab`` mode and (in version 1.0+) a ``matplotlib`` mode.  Whenever you're doing plotting in IPython, you should enable one of these.\n",
    "\n",
    "Adding the ``inline`` flag will use the appropriate backend to make figures appear inline in the notebook.  Otherwise, figures will pop-out in separate windows.\n",
    "\n",
    "#### Two ways to enable:\n",
    "\n",
    "1. At the command line, type\n",
    "   ```\n",
    "   [~]$ ipython --pylab\n",
    "   ```\n",
    "   \n",
    "   or, in version 1.0+,\n",
    "   \n",
    "   ```\n",
    "   [~]$ ipython --matplotlib\n",
    "   ```\n",
    "   \n",
    "2. Within the notebook or IPython command-line, type\n",
    "   ```\n",
    "   In[]: %pylab inline\n",
    "   ```\n",
    "   \n",
    "   or\n",
    "   \n",
    "   ```\n",
    "   In[]: %matplotlib inline\n",
    "   ```     \n",
    "   \n",
    "The difference between ``pylab`` mode and ``matplotlib`` mode is that ``pylab`` includes a bunch of silent imports, including\n",
    "\n",
    "     import numpy as np\n",
    "     import matplotlib.pyplot as plt\n",
    "     from pylab import *\n",
    "\n",
    "This can be convenient, but is often confusing (for example, it replaces the builtin ``sum()`` function with numpy's ``sum()``!).  For that reason we'll use ``matplotlib`` mode.  If your IPython version is older than 1.0, you'll have to switch this to ``pylab`` mode."
   ]
  },
  {
   "cell_type": "code",
   "execution_count": null,
   "metadata": {
    "slideshow": {
     "slide_type": "fragment"
    }
   },
   "outputs": [],
   "source": [
    "# check the IPython version\n",
    "import IPython\n",
    "print IPython.__version__"
   ]
  },
  {
   "cell_type": "code",
   "execution_count": null,
   "metadata": {
    "slideshow": {
     "slide_type": "fragment"
    }
   },
   "outputs": [],
   "source": [
    "%matplotlib inline\n",
    "import numpy as np\n",
    "import matplotlib.pyplot as plt"
   ]
  },
  {
   "cell_type": "markdown",
   "metadata": {
    "slideshow": {
     "slide_type": "slide"
    }
   },
   "source": [
    "## Matplotlib: Scripted vs. Object Oriented\n",
    "\n",
    "Matplotlib provides two flavors of interface.  One is the scripted interface, designed to feel like Matlab.  To enable this, matplotlib maintains a pointer to the current figure, current axis, etc. and directs top-level commands to those places:"
   ]
  },
  {
   "cell_type": "code",
   "execution_count": null,
   "metadata": {
    "slideshow": {
     "slide_type": "fragment"
    }
   },
   "outputs": [],
   "source": [
    "# create a figure using the matlab-like interface\n",
    "x = np.linspace(0, 10, 1000)\n",
    "plt.subplot(2, 1, 1)  # 2x1 grid, first plot\n",
    "plt.plot(x, np.sin(x))\n",
    "plt.title('Trig is easy.')\n",
    "\n",
    "plt.subplot(2, 1, 2)  # 2x1 grid, second plot\n",
    "plt.plot(x, np.cos(x))\n",
    "plt.xlabel('x')"
   ]
  },
  {
   "cell_type": "markdown",
   "metadata": {
    "slideshow": {
     "slide_type": "fragment"
    }
   },
   "source": [
    "The other interface is an object-oriented interface, where we expliticly pass around references to the plot elements we want to work with:"
   ]
  },
  {
   "cell_type": "code",
   "execution_count": null,
   "metadata": {
    "scrolled": true,
    "slideshow": {
     "slide_type": "fragment"
    }
   },
   "outputs": [],
   "source": [
    "# create the same figure using the object-oriented interface\n",
    "fig = plt.figure()\n",
    "\n",
    "ax1 = fig.add_subplot(2, 1, 1)\n",
    "ax1.plot(x, np.sin(x))\n",
    "ax1.set_title(\"Trig is easy\")\n",
    "\n",
    "ax2 = fig.add_subplot(2, 1, 2)\n",
    "ax2.plot(x, np.cos(x))\n",
    "ax2.set_xlabel('x')"
   ]
  },
  {
   "cell_type": "code",
   "execution_count": null,
   "metadata": {},
   "outputs": [],
   "source": [
    "ax1,ax2"
   ]
  },
  {
   "cell_type": "markdown",
   "metadata": {
    "slideshow": {
     "slide_type": "slide"
    }
   },
   "source": [
    "### Why use one interface vs another?\n",
    "\n",
    "These two interfaces are convenient for different circumstances.  I find that for doing quick, simple plots, the scripted interface is often easiest.  On the other hand, when I want more sophisticated plots, the object-oriented interface is simpler and more powerful.  In fact, the scripted interface has several distinct limitations.\n",
    "\n",
    "**It's good practice to use the object-oriented interface.**\n",
    "That is, you should get in the habit of never using the ``plt.<command>`` when you can reference a specific axes or figure object instead."
   ]
  },
  {
   "cell_type": "markdown",
   "metadata": {
    "slideshow": {
     "slide_type": "slide"
    }
   },
   "source": [
    "## Multi-panel plots\n",
    "\n",
    "There are four main ways to create multi-panel plots in matplotlib.  From lowest to highest-level they are (roughly):\n",
    "\n",
    "1. ``fig.add_axes()``: useful for creating inset plots.\n",
    "2. ``fig.add_subplot()``: useful for simple multi-panel plots.\n",
    "3. ``plt.subplots()``: convenience function to create multiple subplots.\n",
    "4. ``plt.GridSpec()``: useful for more involved layouts."
   ]
  },
  {
   "cell_type": "markdown",
   "metadata": {
    "slideshow": {
     "slide_type": "slide"
    }
   },
   "source": [
    "### 1. ``fig.add_axes()``\n",
    "\n",
    "The ``add_axes`` method allows you to create an axes instance by specifying the size relative to the figure edges.\n",
    "\n",
    "The argument is ``[left, bottom, width, height]`` which specifies the axes extent in fractions of the figure size (i.e. between 0 and 1):"
   ]
  },
  {
   "cell_type": "code",
   "execution_count": null,
   "metadata": {
    "slideshow": {
     "slide_type": "fragment"
    }
   },
   "outputs": [],
   "source": [
    "fig = plt.figure()\n",
    "main_ax = fig.add_axes([0, 0.2, 1, 1])"
   ]
  },
  {
   "cell_type": "code",
   "execution_count": null,
   "metadata": {
    "slideshow": {
     "slide_type": "fragment"
    }
   },
   "outputs": [],
   "source": [
    "inset_ax = fig.add_axes([0.6, 0.6, 0.25, 0.25])\n",
    "fig"
   ]
  },
  {
   "cell_type": "code",
   "execution_count": null,
   "metadata": {
    "slideshow": {
     "slide_type": "fragment"
    }
   },
   "outputs": [],
   "source": [
    "main_ax.plot(np.random.rand(100), color='gray')\n",
    "inset_ax.plot(np.random.rand(20), color='black')\n",
    "fig"
   ]
  },
  {
   "cell_type": "markdown",
   "metadata": {
    "slideshow": {
     "slide_type": "slide"
    }
   },
   "source": [
    "### 2. ``fig.add_subplot()``\n",
    "\n",
    "If you're trying to create multiple axes in a grid, you might use ``add_axes()`` repeatedly, but calculating the extent for each axes is not trivial.  The ``add_subplot()`` method can streamline this.\n",
    "\n",
    "The arguments are of the form ``N_vertical, N_horizontal, Plot_number``, and the indices start at 1 (a holdover from Matlab):"
   ]
  },
  {
   "cell_type": "code",
   "execution_count": null,
   "metadata": {
    "slideshow": {
     "slide_type": "fragment"
    }
   },
   "outputs": [],
   "source": [
    "fig = plt.figure()\n",
    "for i in range(1, 7):\n",
    "    ax = fig.add_subplot(2, 3, i)\n",
    "    ax.text(0.45, 0.45, str(i), fontsize=24)"
   ]
  },
  {
   "cell_type": "markdown",
   "metadata": {
    "slideshow": {
     "slide_type": "fragment"
    }
   },
   "source": [
    "If you desire, you can adjust the spacing using ``fig.subplots_adjust()``, with units relative to the figure size (i.e. between 0 and 1)"
   ]
  },
  {
   "cell_type": "code",
   "execution_count": null,
   "metadata": {
    "slideshow": {
     "slide_type": "fragment"
    }
   },
   "outputs": [],
   "source": [
    "fig.subplots_adjust(left=0.1, right=0.9,\n",
    "                    bottom=0.1, top=0.9,\n",
    "                    hspace=0.4, wspace=0.4)\n",
    "fig"
   ]
  },
  {
   "cell_type": "markdown",
   "metadata": {
    "slideshow": {
     "slide_type": "slide"
    }
   },
   "source": [
    "### 3. ``plt.subplots()``\n",
    "\n",
    "because creating a full grid of subplots is such a common task, matplotlib recently added the ``plt.subplots()`` command which creates the figure and axes in one go.\n",
    "\n",
    "The arguments are ``N_vertical``, ``N_horizontal``, and the axes are returned within a Numpy array:"
   ]
  },
  {
   "cell_type": "code",
   "execution_count": null,
   "metadata": {
    "slideshow": {
     "slide_type": "fragment"
    }
   },
   "outputs": [],
   "source": [
    "fig, ax = plt.subplots(2, 3)\n",
    "for i in range(2):\n",
    "    for j in range(3):\n",
    "        ax[i, j].text(0.2, 0.45, str((i, j)), fontsize=20)"
   ]
  },
  {
   "cell_type": "code",
   "execution_count": null,
   "metadata": {
    "slideshow": {
     "slide_type": "fragment"
    }
   },
   "outputs": [],
   "source": [
    "print ax[0,2]\n",
    "print ax.shape"
   ]
  },
  {
   "cell_type": "markdown",
   "metadata": {
    "slideshow": {
     "slide_type": "fragment"
    }
   },
   "source": [
    "An additional nice piece of this routine is the ability to specify that the subplots have a shared ``x`` or ``y`` axis: this ties together the axis limits and removes redundant tick labels:"
   ]
  },
  {
   "cell_type": "code",
   "execution_count": null,
   "metadata": {
    "slideshow": {
     "slide_type": "fragment"
    }
   },
   "outputs": [],
   "source": [
    "fig, ax = plt.subplots(2, 3, sharex=True, sharey=True)\n",
    "x = np.linspace(0, 10, 1000)\n",
    "for i in range(2):\n",
    "    for j in range(3):\n",
    "        ax[i, j].plot(x, (j + 1) * np.sin((i + 1) * x))"
   ]
  },
  {
   "cell_type": "markdown",
   "metadata": {
    "slideshow": {
     "slide_type": "slide"
    }
   },
   "source": [
    "### 4. ``plt.GridSpec()``\n",
    "\n",
    "``GridSpec`` is the highest-level routine for creating subplots.  It's an abstract object that allows the creation of multi-row or multi-column subplots via an intuitive slicing interface:"
   ]
  },
  {
   "cell_type": "code",
   "execution_count": null,
   "metadata": {
    "slideshow": {
     "slide_type": "fragment"
    }
   },
   "outputs": [],
   "source": [
    "gs = plt.GridSpec(3, 3)  # a 3x3 grid\n",
    "fig = plt.figure(figsize=(6, 6))  # figure size in inches\n",
    "\n",
    "fig.add_subplot(gs[:, :])\n",
    "fig.add_subplot(gs[1, 1])"
   ]
  },
  {
   "cell_type": "code",
   "execution_count": null,
   "metadata": {},
   "outputs": [],
   "source": [
    "gs = plt.GridSpec(3, 3, wspace=0.4, hspace=0.4)\n",
    "fig = plt.figure(figsize=(6, 6))\n",
    "\n",
    "fig.add_subplot(gs[1, :2])\n",
    "fig.add_subplot(gs[0, :2])\n",
    "fig.add_subplot(gs[2, 0])\n",
    "fig.add_subplot(gs[:2, 2])\n",
    "fig.add_subplot(gs[2, 1:])"
   ]
  },
  {
   "cell_type": "markdown",
   "metadata": {
    "slideshow": {
     "slide_type": "fragment"
    }
   },
   "source": [
    "Check out the documentation of ``plt.GridSpec`` for information on adjusting the subplot parameters.  The keyword arguments are similar to those of ``plt.subplots_adjust()``."
   ]
  },
  {
   "cell_type": "markdown",
   "metadata": {
    "slideshow": {
     "slide_type": "slide"
    }
   },
   "source": [
    "### Quick Exercise:\n",
    "#### Visualizing multi-dimensional correlations\n",
    "\n",
    "Let's use a multi-panel plot to show the correlations between three different variables.  Here's an example of the type of plot we'd like to create:\n",
    "\n",
    "<img src=\"http://www.astroml.org/_images/fig_LINEAR_sample_1.png\" width=\"60%\">\n",
    "\n",
    "([source](http://www.astroml.org/book_figures/chapter1/fig_LINEAR_sample.html))\n",
    "\n",
    "Ignore the upper-right panel for the time-being.  The point is that there are three variables this plot compares: period, ``g-r`` color, and ``r-i`` color.  By comparing the three panels, we gain some excellent intuition into the correlations between the three variables.\n",
    "\n",
    "Your task: use the ``asteroids5000.csv`` data from the previous breakout session, and plot the semi-major axis, the ellipticity, and the inclination angle in the same manner.  Note that these are, respectively, columns (1, 2, 3) in the file.\n",
    "\n",
    "(Recall that the asteroids file can be found in the github repository, at ``notebooks/data/asteroids5000.csv``, and you can load the data using ``np.genfromtxt``)."
   ]
  },
  {
   "cell_type": "markdown",
   "metadata": {
    "slideshow": {
     "slide_type": "slide"
    }
   },
   "source": [
    "## Formatters and Locators:\n",
    "\n",
    "### Customizing your axes\n",
    "\n",
    "This is another important piece of producing publication-quality plots: adjusting your axis ticks and tick labels.  These are done through ``plt.Formatter`` and ``plt.Locator`` objects.\n",
    "\n",
    "- ``Formatter``, as you might imagine, adjust the **format** of the tick labels.\n",
    "- ``Locator`` adjusts the **location** of the tick labels.\n",
    "\n",
    "Additionally, you should be aware that matplotlib has two classes of ticks:  **major** ticks, and **minor** ticks."
   ]
  },
  {
   "cell_type": "markdown",
   "metadata": {
    "slideshow": {
     "slide_type": "slide"
    }
   },
   "source": [
    "### Formatters\n",
    "\n",
    "Here's an example of adjusting the formatter of the tick labels"
   ]
  },
  {
   "cell_type": "code",
   "execution_count": null,
   "metadata": {
    "slideshow": {
     "slide_type": "fragment"
    }
   },
   "outputs": [],
   "source": [
    "fig, ax = plt.subplots()  # trick to create a single axes\n",
    "ax.plot(np.random.rand(100))\n",
    "\n",
    "# set the major formatter for the x-axis\n",
    "ax.xaxis.set_major_formatter(plt.FormatStrFormatter(\"(%f)\"))\n",
    "\n",
    "# set the major formatter for the y-axis\n",
    "#ax.yaxis.set_major_formatter(plt.FixedFormatter(['A', 'B', 'C', 'D']))"
   ]
  },
  {
   "cell_type": "markdown",
   "metadata": {
    "slideshow": {
     "slide_type": "fragment"
    }
   },
   "source": [
    "We see the general form used to set these.  We first get the ``axis`` instance (not to be confused with the ``axes`` instance), then call the ``set_major_formatter`` or ``set_minor_formatter`` method, and pass a ``Formatter`` object."
   ]
  },
  {
   "cell_type": "markdown",
   "metadata": {
    "slideshow": {
     "slide_type": "slide"
    }
   },
   "source": [
    "#### Available Formatters\n",
    "\n",
    "The following formatters are available:\n",
    "\n",
    "- ``plt.ScalarFormatter``: default -- choose the best format\n",
    "- ``plt.LogFormatter``: default for log plots\n",
    "- ``plt.NullFormatter``: no tick labels\n",
    "- ``plt.FixedFormatter``: a fixed list of tick labels\n",
    "- ``plt.FuncFormatter``: a function which returns a label\n",
    "- ``plt.FormatStrFormatter``: label derived from a format string\n",
    "\n",
    "Note that several of these formatters make the most sense when being used along with a custom locator."
   ]
  },
  {
   "cell_type": "markdown",
   "metadata": {
    "slideshow": {
     "slide_type": "fragment"
    }
   },
   "source": [
    "The ``FuncFormatter`` can be especially useful:"
   ]
  },
  {
   "cell_type": "code",
   "execution_count": null,
   "metadata": {},
   "outputs": [],
   "source": [
    "fig, ax = plt.subplots()  # trick to create a single axes\n",
    "ax.plot(np.random.rand(100))\n",
    "\n",
    "def formatfunc(tick_loc, tick_num):\n",
    "    return '%2d:%2.1f'%(tick_loc, tick_num)\n",
    "\n",
    "# set the major formatter for the x-axis\n",
    "ax.xaxis.set_major_formatter(plt.FuncFormatter(formatfunc))"
   ]
  },
  {
   "cell_type": "markdown",
   "metadata": {
    "slideshow": {
     "slide_type": "slide"
    }
   },
   "source": [
    "### Locators\n",
    "\n",
    "Locators are used in a similar manner to formatters:"
   ]
  },
  {
   "cell_type": "code",
   "execution_count": null,
   "metadata": {
    "slideshow": {
     "slide_type": "fragment"
    }
   },
   "outputs": [],
   "source": [
    "fig, ax = plt.subplots()\n",
    "ax.plot(10 * np.random.rand(100))\n",
    "\n",
    "ax.xaxis.set_major_locator(plt.MultipleLocator(10))\n",
    "ax.yaxis.set_major_locator(plt.FixedLocator([np.e, 2 * np.pi, 0.8]))"
   ]
  },
  {
   "cell_type": "markdown",
   "metadata": {},
   "source": [
    "#### Available Locators\n",
    "\n",
    "The following Locators are available:\n",
    "\n",
    "- ``plt.LinearLocator``: default: choose a suitable linear spacing\n",
    "- ``plt.LogLocator``: default for log plots: choose a suitable logarithmic spacing.\n",
    "- ``plt.IndexLocator``: default for index plots (where ``x = range(len(y))``)\n",
    "- ``plt.NullLocator``: no ticks (this is the default for minor ticks)\n",
    "- ``plt.FixedLocator``: specify fixed tick locations\n",
    "- ``plt.MultipleLocator``: ticks at a multiple of the given number"
   ]
  },
  {
   "cell_type": "markdown",
   "metadata": {
    "slideshow": {
     "slide_type": "slide"
    }
   },
   "source": [
    "### Quick Exercises\n",
    "\n",
    "For the first four exercises below, use ``plot(x, y)`` where ``x`` ranges from 0 to 10 and ``y = sin(x)``.\n",
    "\n",
    "1. Create a plot with no ticks and no labels\n",
    "\n",
    "2. Create a plot with ticks but no labels\n",
    "\n",
    "3. Create a plot where the x labels are in multiples of pi\n",
    "\n",
    "4. Redo #3, but use a ``FuncFormatter`` to make the labels appear as $\\pi$, $2\\pi$, $3\\pi$, etc.  Note that latex math expressions are denoted by dollar signs, but you'll usually need raw strings: e.g. ``r'$\\pi$'`` renders to $\\pi$\n",
    "\n",
    "5. Log scaling can be turned on by using, e.g.\n",
    "   ```\n",
    "   fig = plt.figure()\n",
    "   ax = fig.add_subplot(1, 1, 1, xscale='log')\n",
    "   ax.plot(...)\n",
    "   ```\n",
    "   Make a log-log plot of the function $y = x^2$ where x ranges from 1 to 10.\n",
    "   \n",
    "6. Repeat plot #5, but change the axes so that the major ticks are powers of 2 rather than powers of 10.  Turn the minor ticks off."
   ]
  },
  {
   "cell_type": "code",
   "execution_count": null,
   "metadata": {},
   "outputs": [],
   "source": []
  },
  {
   "cell_type": "markdown",
   "metadata": {
    "slideshow": {
     "slide_type": "slide"
    }
   },
   "source": [
    "## System-wide formatting: matplotlibrc\n",
    "\n",
    "Matplotlib is extremely customizable.  You can change the default of many different components using the ``matplotlibrc`` file, located at ``~/.matplotlib/matplotlibrc``.  If the file doesn't exist, then default settings are used.  You can see a template matplotlibrc file [here](http://matplotlib.org/users/customizing.html#matplotlibrc-sample):"
   ]
  },
  {
   "cell_type": "code",
   "execution_count": null,
   "metadata": {
    "slideshow": {
     "slide_type": "fragment"
    }
   },
   "outputs": [],
   "source": [
    "#%load http://matplotlib.org/_static/matplotlibrc"
   ]
  },
  {
   "cell_type": "markdown",
   "metadata": {
    "slideshow": {
     "slide_type": "fragment"
    }
   },
   "source": [
    "#### Setting params dynamically\n",
    "\n",
    "Additionally, if you'd just like to change parameters for the current python session, you can use the ``plt.rc`` function to dynamically set them.\n",
    "\n",
    "The ``plt.rc`` function has the following signature:\n",
    "\n",
    "    rc(element_name, attr1=val1, attr2=val2)\n",
    "\n",
    "and the results will be stored in the ``plt.rcParams`` dictionary:"
   ]
  },
  {
   "cell_type": "code",
   "execution_count": null,
   "metadata": {
    "slideshow": {
     "slide_type": "fragment"
    }
   },
   "outputs": [],
   "source": [
    "print plt.rcParams['lines.linewidth']"
   ]
  },
  {
   "cell_type": "code",
   "execution_count": null,
   "metadata": {
    "slideshow": {
     "slide_type": "fragment"
    }
   },
   "outputs": [],
   "source": [
    "plt.rc('lines', linewidth=5.0)\n",
    "print plt.rcParams['lines.linewidth']"
   ]
  },
  {
   "cell_type": "code",
   "execution_count": null,
   "metadata": {
    "slideshow": {
     "slide_type": "fragment"
    }
   },
   "outputs": [],
   "source": [
    "plt.plot(np.random.rand(10))"
   ]
  },
  {
   "cell_type": "markdown",
   "metadata": {
    "slideshow": {
     "slide_type": "fragment"
    }
   },
   "source": [
    "You can examine all the possible rcParams values by printing the keys of the rcParams dictionary."
   ]
  },
  {
   "cell_type": "code",
   "execution_count": null,
   "metadata": {
    "scrolled": true,
    "slideshow": {
     "slide_type": "fragment"
    }
   },
   "outputs": [],
   "source": [
    "plt.rcParams.keys()[:5]"
   ]
  },
  {
   "cell_type": "code",
   "execution_count": null,
   "metadata": {
    "collapsed": true
   },
   "outputs": [],
   "source": []
  }
 ],
 "metadata": {
  "kernelspec": {
   "display_name": "Python 2",
   "language": "python",
   "name": "python2"
  },
  "language_info": {
   "codemirror_mode": {
    "name": "ipython",
    "version": 2
   },
   "file_extension": ".py",
   "mimetype": "text/x-python",
   "name": "python",
   "nbconvert_exporter": "python",
   "pygments_lexer": "ipython2",
   "version": "2.7.13"
  }
 },
 "nbformat": 4,
 "nbformat_minor": 1
}
