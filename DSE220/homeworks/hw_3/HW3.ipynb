{
 "cells": [
  {
   "cell_type": "markdown",
   "metadata": {},
   "source": [
    "# 2 Discriminative Learning"
   ]
  },
  {
   "cell_type": "markdown",
   "metadata": {},
   "source": [
    "For the questions in this section, load the wine dataset (wine original.csv). "
   ]
  },
  {
   "cell_type": "markdown",
   "metadata": {},
   "source": [
    "Question 1: Perform a 80-20 split using train test split on the data to obtain the train and the test data (random state=3). Use Logistic Regression to classify the wines according to their cultivators. Tune parameters ’penalty’ and ’C’ using GridSearchCV implementation. Report the accuracy on test data. (10 marks)"
   ]
  },
  {
   "cell_type": "code",
   "execution_count": 1,
   "metadata": {},
   "outputs": [],
   "source": [
    "import numpy as np\n",
    "import pandas as pd\n",
    "from sklearn.model_selection import train_test_split\n",
    "import matplotlib.pyplot as plt"
   ]
  },
  {
   "cell_type": "code",
   "execution_count": 2,
   "metadata": {},
   "outputs": [],
   "source": [
    "data = pd.read_csv('wine_original.csv')\n",
    "labels = data['class']\n",
    "del data['class']\n",
    "\n",
    "train_data, test_data, train_label, test_label = train_test_split(data, labels, test_size=0.2, random_state=3)"
   ]
  },
  {
   "cell_type": "code",
   "execution_count": 3,
   "metadata": {},
   "outputs": [],
   "source": [
    "from sklearn.linear_model import LogisticRegression"
   ]
  },
  {
   "cell_type": "code",
   "execution_count": 4,
   "metadata": {},
   "outputs": [
    {
     "name": "stdout",
     "output_type": "stream",
     "text": [
      "Fitting 3 folds for each of 16 candidates, totalling 48 fits\n",
      "Selected Parameters:  {'C': 1, 'penalty': 'l1'}\n",
      "Training Accuracy = 0.9929577464788732\n",
      "Test Accuracy = 0.8888888888888888\n"
     ]
    },
    {
     "name": "stderr",
     "output_type": "stream",
     "text": [
      "[Parallel(n_jobs=-1)]: Done  48 out of  48 | elapsed:    0.3s finished\n"
     ]
    }
   ],
   "source": [
    "# Logistic Regression\n",
    "from sklearn.linear_model import LogisticRegression\n",
    "from sklearn.model_selection import GridSearchCV\n",
    "from sklearn.metrics import accuracy_score\n",
    "\n",
    "parameters = { 'penalty': ['l1','l2'], \n",
    "              'C':[0.1, 0.5, 1, 2, 3, 4, 5, 10]}\n",
    "logreg = LogisticRegression()\n",
    "clf = GridSearchCV(logreg, parameters, verbose=True, n_jobs=-1)\n",
    "clf.fit(train_data, train_label)\n",
    "y_pred = clf.predict(test_data)\n",
    "\n",
    "accuracy = accuracy_score(y_pred, test_label)\n",
    "train_acc = accuracy_score(clf.predict(train_data), train_label)\n",
    "print ('Selected Parameters: ', clf.best_params_)\n",
    "print ('Training Accuracy = ' + str(train_acc))\n",
    "print ('Test Accuracy = ' + str(accuracy))"
   ]
  },
  {
   "cell_type": "code",
   "execution_count": null,
   "metadata": {},
   "outputs": [],
   "source": []
  },
  {
   "cell_type": "markdown",
   "metadata": {},
   "source": [
    "# 3 Perceptron and Support Vector Machines"
   ]
  },
  {
   "cell_type": "markdown",
   "metadata": {},
   "source": [
    "3.1 Data:\n",
    "In this section, we will work on the text data. Download the newsgroups data (train and test) using fetch 20newsgroups for categories: ’alt.atheism’, ’comp.graphics’, ’sci.space’ and ’talk.politics.mideast’ after removing ’headers’, ’footers’ and ’quotes’ from the data. Convert all the words in the text to lower case. A common practice is to remove the stopwords like a, and, the etc. from the text. Use nltk to get the stopwords list (nltk.corpus.stopwords) and remove the stopwords from the text. Use TfidfVectorizer to obtain the tfidf vectors (after smoothing*) for the train and test data and select only top 2000 features (words). You can also perform the above stated actions (lowercase and stop- words) using the TfidfVectorizer. Note: You’ll fit the tf-idf vectors on the train data and use the same to transform the test data. (10 marks)\n",
    "*: Smoothing the text data is same as computing the idf values after adding a document with all words in the vocabulary."
   ]
  },
  {
   "cell_type": "code",
   "execution_count": 5,
   "metadata": {},
   "outputs": [],
   "source": [
    "from sklearn.datasets import fetch_20newsgroups\n",
    "from sklearn.feature_extraction.text import TfidfVectorizer\n",
    "from nltk.corpus import stopwords"
   ]
  },
  {
   "cell_type": "code",
   "execution_count": 6,
   "metadata": {},
   "outputs": [],
   "source": [
    "cats = ['alt.atheism', 'comp.graphics', 'sci.space', 'talk.politics.mideast' ]\n",
    "newsgroups_train = fetch_20newsgroups(subset='train',remove=('headers', 'footers', 'quotes'),categories=cats)\n",
    "newsgroups_test = fetch_20newsgroups(subset='test',remove=('headers', 'footers', 'quotes'),categories=cats)"
   ]
  },
  {
   "cell_type": "code",
   "execution_count": 7,
   "metadata": {},
   "outputs": [],
   "source": [
    "vectorizer = TfidfVectorizer(lowercase=True, stop_words=stopwords.words('english'), max_features=2000)\n",
    "vectors_train = vectorizer.fit_transform(newsgroups_train.data)"
   ]
  },
  {
   "cell_type": "code",
   "execution_count": 8,
   "metadata": {},
   "outputs": [],
   "source": [
    "vectors_test = vectorizer.transform(newsgroups_test.data)"
   ]
  },
  {
   "cell_type": "markdown",
   "metadata": {},
   "source": [
    "Question 2: After obtaining the tf-idf vectors for train and test data, use the perceptron model (no penalty) to train on the training vectors and compute the accuracy on the test vectors. (5 marks)"
   ]
  },
  {
   "cell_type": "code",
   "execution_count": 9,
   "metadata": {},
   "outputs": [],
   "source": [
    "from sklearn.linear_model import Perceptron"
   ]
  },
  {
   "cell_type": "code",
   "execution_count": 10,
   "metadata": {},
   "outputs": [
    {
     "name": "stdout",
     "output_type": "stream",
     "text": [
      "Test accuracy = 0.7686062246278755\n"
     ]
    },
    {
     "name": "stderr",
     "output_type": "stream",
     "text": [
      "/anaconda3/lib/python3.6/site-packages/sklearn/linear_model/stochastic_gradient.py:128: FutureWarning: max_iter and tol parameters have been added in <class 'sklearn.linear_model.perceptron.Perceptron'> in 0.19. If both are left unset, they default to max_iter=5 and tol=None. If tol is not None, max_iter defaults to max_iter=1000. From 0.21, default max_iter will be 1000, and default tol will be 1e-3.\n",
      "  \"and default tol will be 1e-3.\" % type(self), FutureWarning)\n"
     ]
    }
   ],
   "source": [
    "# Model\n",
    "clf = Perceptron()\n",
    "# fit\n",
    "clf.fit(vectors_train, newsgroups_train.target)\n",
    "# predict\n",
    "pred = clf.predict(vectors_test)\n",
    "#evaluate\n",
    "print ('Test accuracy = ' + str(accuracy_score(newsgroups_test.target, pred)))"
   ]
  },
  {
   "cell_type": "markdown",
   "metadata": {},
   "source": [
    "Question 3: Keeping all the above data processing steps same observe how the test accuracy changes by varying the number of top features selected for 100, 200, 500, 1000, 1500, 2000, 3000 for a perceptron model. Report and plot the results.(10 mark)\n"
   ]
  },
  {
   "cell_type": "code",
   "execution_count": 11,
   "metadata": {},
   "outputs": [
    {
     "name": "stderr",
     "output_type": "stream",
     "text": [
      "/anaconda3/lib/python3.6/site-packages/sklearn/linear_model/stochastic_gradient.py:128: FutureWarning: max_iter and tol parameters have been added in <class 'sklearn.linear_model.perceptron.Perceptron'> in 0.19. If both are left unset, they default to max_iter=5 and tol=None. If tol is not None, max_iter defaults to max_iter=1000. From 0.21, default max_iter will be 1000, and default tol will be 1e-3.\n",
      "  \"and default tol will be 1e-3.\" % type(self), FutureWarning)\n"
     ]
    },
    {
     "name": "stdout",
     "output_type": "stream",
     "text": [
      "Features selected: 100 Test accuracy = 0.6069012178619756\n",
      "Features selected: 200 Test accuracy = 0.6732070365358592\n",
      "Features selected: 500 Test accuracy = 0.7300405953991881\n",
      "Features selected: 1000 Test accuracy = 0.7422192151556157\n",
      "Features selected: 1500 Test accuracy = 0.7523680649526387\n",
      "Features selected: 2000 Test accuracy = 0.7686062246278755\n",
      "Features selected: 3000 Test accuracy = 0.7807848443843031\n"
     ]
    },
    {
     "data": {
      "image/png": "[encoded data removed]",
      "text/plain": [
       "<matplotlib.figure.Figure at 0x10f34ac88>"
      ]
     },
     "metadata": {},
     "output_type": "display_data"
    }
   ],
   "source": [
    "features = [100, 200, 500, 1000, 1500, 2000, 3000]\n",
    "test_acc = []\n",
    "for feature in features:\n",
    "    vectorizer = TfidfVectorizer(lowercase=True, stop_words=stopwords.words('english'), max_features=feature)\n",
    "    vectors_train = vectorizer.fit_transform(newsgroups_train.data)\n",
    "    vectors_test = vectorizer.transform(newsgroups_test.data)\n",
    "    clf = Perceptron()\n",
    "    clf.fit(vectors_train, newsgroups_train.target)\n",
    "    pred = clf.predict(vectors_test)\n",
    "    test_acc.append(accuracy_score(newsgroups_test.target, pred))\n",
    "    print ('Features selected:',feature,'Test accuracy = ' + str(accuracy_score(newsgroups_test.target, pred)))\n",
    "\n",
    "bar_plot = pd.DataFrame(test_acc, columns=['Accuracy'], index=features).plot.bar()\n",
    "xlabel = plt.xlabel('Features')\n",
    "ylabel = plt.ylabel('Test Accuracy')\n",
    "\n"
   ]
  },
  {
   "cell_type": "code",
   "execution_count": null,
   "metadata": {},
   "outputs": [],
   "source": []
  },
  {
   "cell_type": "markdown",
   "metadata": {},
   "source": [
    "Question 4: After obtaining the tf-idf vectors for train and test data, use the SVM model to train on the training vectors and compute the accuracy on the test vectors. Use linear kernel and default parameters. (5 mark)"
   ]
  },
  {
   "cell_type": "code",
   "execution_count": 12,
   "metadata": {},
   "outputs": [],
   "source": [
    "from sklearn.svm import SVC"
   ]
  },
  {
   "cell_type": "code",
   "execution_count": 13,
   "metadata": {},
   "outputs": [
    {
     "name": "stdout",
     "output_type": "stream",
     "text": [
      "Test accuracy = 0.7855209742895806\n"
     ]
    }
   ],
   "source": [
    "vectorizer = TfidfVectorizer(lowercase=True, stop_words=stopwords.words('english'), max_features=2000)\n",
    "vectors_train = vectorizer.fit_transform(newsgroups_train.data)\n",
    "vectors_test = vectorizer.transform(newsgroups_test.data)\n",
    "#Model\n",
    "clf = SVC(kernel='linear')\n",
    "#fit\n",
    "clf.fit(vectors_train, newsgroups_train.target)\n",
    "# predict\n",
    "pred = clf.predict(vectors_test)\n",
    "#evaluate\n",
    "print ('Test accuracy = ' + str(accuracy_score(newsgroups_test.target, pred)))"
   ]
  },
  {
   "cell_type": "code",
   "execution_count": null,
   "metadata": {},
   "outputs": [],
   "source": []
  },
  {
   "cell_type": "markdown",
   "metadata": {},
   "source": [
    "Question 5: Keeping all the above data processing steps same observe how the test accuracy changes by varying the number of top features selected for 100, 200, 500, 1000, 1500, 2000, 3000 for a linear SVM model. Report and plot the results.(10 mark)"
   ]
  },
  {
   "cell_type": "code",
   "execution_count": 14,
   "metadata": {},
   "outputs": [
    {
     "name": "stdout",
     "output_type": "stream",
     "text": [
      "Features selected: 100 Test accuracy = 0.652232746955345\n",
      "Features selected: 200 Test accuracy = 0.6921515561569689\n",
      "Features selected: 500 Test accuracy = 0.7422192151556157\n",
      "Features selected: 1000 Test accuracy = 0.7672530446549392\n",
      "Features selected: 1500 Test accuracy = 0.7767253044654939\n",
      "Features selected: 2000 Test accuracy = 0.7855209742895806\n",
      "Features selected: 3000 Test accuracy = 0.8085250338294994\n"
     ]
    },
    {
     "data": {
      "image/png": "[encoded data removed]",
      "text/plain": [
       "<matplotlib.figure.Figure at 0x1a218a3828>"
      ]
     },
     "metadata": {},
     "output_type": "display_data"
    }
   ],
   "source": [
    "features = [100, 200, 500, 1000, 1500, 2000, 3000]\n",
    "test_acc = []\n",
    "for feature in features:\n",
    "    vectorizer = TfidfVectorizer(lowercase=True, stop_words=stopwords.words('english'), max_features=feature)\n",
    "    vectors_train = vectorizer.fit_transform(newsgroups_train.data)\n",
    "    vectors_test = vectorizer.transform(newsgroups_test.data)\n",
    "    clf = SVC(kernel='linear')\n",
    "    clf.fit(vectors_train, newsgroups_train.target)\n",
    "    pred = clf.predict(vectors_test)\n",
    "    test_acc.append(accuracy_score(newsgroups_test.target, pred))\n",
    "    print ('Features selected:',feature,'Test accuracy = ' + str(accuracy_score(newsgroups_test.target, pred)))\n",
    "\n",
    "bar_plot = pd.DataFrame(test_acc, columns=['Accuracy'], index=features).plot.bar()\n",
    "xlabel = plt.xlabel('Features')\n",
    "ylabel = plt.ylabel('Test Accuracy')\n",
    "\n"
   ]
  },
  {
   "cell_type": "code",
   "execution_count": null,
   "metadata": {},
   "outputs": [],
   "source": []
  },
  {
   "cell_type": "markdown",
   "metadata": {},
   "source": [
    "Question 6: Perform 80-20 split of the training data to obtain validation data using train test split (random state=10). Use this validation data to tune the cost parameter ’C’ for values 0.01,0.1,1,10,100. Select the best value compute the accuracy for the test data. Report the validation and test accuracies. Note: Use full data of 2000 vectors here. (10 marks)"
   ]
  },
  {
   "cell_type": "code",
   "execution_count": 15,
   "metadata": {},
   "outputs": [],
   "source": [
    "vectorizer = TfidfVectorizer(lowercase=True, stop_words=stopwords.words('english'), max_features=2000)\n",
    "vectors_train = vectorizer.fit_transform(newsgroups_train.data)\n",
    "vectors_test = vectorizer.transform(newsgroups_test.data)\n",
    "\n",
    "train_data, val_data, train_label, val_label = train_test_split(vectors_train, newsgroups_train.target, test_size=0.2, random_state=10)"
   ]
  },
  {
   "cell_type": "code",
   "execution_count": 16,
   "metadata": {},
   "outputs": [
    {
     "name": "stdout",
     "output_type": "stream",
     "text": [
      "For C =  0.01   Validation accuracy = 0.2449438202247191\n",
      "For C =  0.1   Validation accuracy = 0.7573033707865169\n",
      "For C =  1   Validation accuracy = 0.8449438202247191\n",
      "For C =  10   Validation accuracy = 0.8224719101123595\n",
      "For C =  100   Validation accuracy = 0.8\n"
     ]
    }
   ],
   "source": [
    "C = [0.01,0.1,1,10,100]\n",
    "for c in C:\n",
    "    clf = SVC(kernel='linear', C=c)\n",
    "    clf.fit(train_data, train_label)\n",
    "    pred = clf.predict(val_data)\n",
    "    print ('For C = ',c,'  Validation accuracy = ' + str(accuracy_score(val_label, pred)))\n"
   ]
  },
  {
   "cell_type": "markdown",
   "metadata": {},
   "source": [
    "From the above values, best C=1 is chosen"
   ]
  },
  {
   "cell_type": "code",
   "execution_count": 17,
   "metadata": {},
   "outputs": [
    {
     "name": "stdout",
     "output_type": "stream",
     "text": [
      "Test accuracy = 0.7855209742895806\n"
     ]
    }
   ],
   "source": [
    "vectorizer = TfidfVectorizer(lowercase=True, stop_words=stopwords.words('english'), max_features=2000)\n",
    "vectors_train = vectorizer.fit_transform(newsgroups_train.data)\n",
    "vectors_test = vectorizer.transform(newsgroups_test.data)\n",
    "clf = SVC(kernel='linear', C=1)\n",
    "clf.fit(vectors_train, newsgroups_train.target)\n",
    "pred = clf.predict(vectors_test)\n",
    "test_acc.append(accuracy_score(newsgroups_test.target, pred))\n",
    "print ('Test accuracy = ' + str(accuracy_score(newsgroups_test.target, pred)))\n"
   ]
  },
  {
   "cell_type": "code",
   "execution_count": null,
   "metadata": {},
   "outputs": [],
   "source": []
  },
  {
   "cell_type": "markdown",
   "metadata": {},
   "source": [
    "Question 7: Train a kernelized SVM (with ’C’=10000) with kernel values - ’poly’ with degree 1, 2, 3, ’rbf’ and ’sigmoid’, and report the one with best accuracy on validation data. Also report the test accuracy for the selected kernel. (10 marks)"
   ]
  },
  {
   "cell_type": "code",
   "execution_count": 18,
   "metadata": {},
   "outputs": [],
   "source": [
    "vectorizer = TfidfVectorizer(lowercase=True, stop_words=stopwords.words('english'), max_features=2000)\n",
    "vectors_train = vectorizer.fit_transform(newsgroups_train.data)\n",
    "vectors_test = vectorizer.transform(newsgroups_test.data)\n",
    "\n",
    "train_data, val_data, train_label, val_label = train_test_split(vectors_train, newsgroups_train.target, test_size=0.2, random_state=10)"
   ]
  },
  {
   "cell_type": "code",
   "execution_count": 19,
   "metadata": {},
   "outputs": [
    {
     "name": "stdout",
     "output_type": "stream",
     "text": [
      "Kernel: poly    Degree =  1       Validation accuracy = 0.8224719101123595\n",
      "Kernel: poly    Degree =  2       Validation accuracy = 0.2449438202247191\n",
      "Kernel: poly    Degree =  3       Validation accuracy = 0.2449438202247191\n",
      "\n",
      "Kernel: rbf       Validation accuracy = 0.8224719101123595\n",
      "\n",
      "Kernel: sigmoid       Validation accuracy = 0.8224719101123595\n"
     ]
    }
   ],
   "source": [
    "kernel = ['poly', 'rbf', 'sigmoid']\n",
    "deg = [1,2,3]\n",
    "for k in kernel:\n",
    "    if k == 'poly':\n",
    "        for d in deg:\n",
    "            svc = SVC(C=10000, kernel=k, degree = d)\n",
    "            svc.fit(train_data, train_label)\n",
    "            pred = svc.predict(val_data)\n",
    "            print ('Kernel:',k,'   Degree = ',d,'      Validation accuracy = ' + str(accuracy_score(val_label, pred)))\n",
    "    else:\n",
    "        svc = SVC(C=10000, kernel=k)\n",
    "        svc.fit(train_data, train_label)\n",
    "        pred = svc.predict(val_data)\n",
    "        print ('\\nKernel:',k,'      Validation accuracy = ' + str(accuracy_score(val_label, pred)))\n"
   ]
  },
  {
   "cell_type": "markdown",
   "metadata": {},
   "source": [
    "From the above values best kernel is 'poly' with degree 1"
   ]
  },
  {
   "cell_type": "code",
   "execution_count": 20,
   "metadata": {},
   "outputs": [
    {
     "name": "stdout",
     "output_type": "stream",
     "text": [
      "Test accuracy = 0.7652232746955345\n"
     ]
    }
   ],
   "source": [
    "clf = SVC(C=10000, kernel='poly', degree = 1)\n",
    "clf.fit(vectors_train, newsgroups_train.target)\n",
    "pred = clf.predict(vectors_test)\n",
    "test_acc.append(accuracy_score(newsgroups_test.target, pred))\n",
    "print ('Test accuracy = ' + str(accuracy_score(newsgroups_test.target, pred)))"
   ]
  },
  {
   "cell_type": "code",
   "execution_count": null,
   "metadata": {},
   "outputs": [],
   "source": []
  },
  {
   "cell_type": "markdown",
   "metadata": {},
   "source": [
    "# 3.2 Custom Kernels"
   ]
  },
  {
   "cell_type": "markdown",
   "metadata": {},
   "source": [
    "Now we introduce the concept of custom kernels in Support Vector Machines. There are good chances that we need some other form of similarity measure for our data, for which we need to pass our own function as kernel to SVM.\n",
    "\n"
   ]
  },
  {
   "cell_type": "markdown",
   "metadata": {},
   "source": [
    "Question 8: Use Cosine Similarity and Laplacian Kernel (exp−||x−y||1 ) measures, and report the test accuracies using these kernels with SVM. (15 marks)"
   ]
  },
  {
   "cell_type": "code",
   "execution_count": 21,
   "metadata": {},
   "outputs": [],
   "source": [
    "from sklearn.metrics.pairwise import cosine_similarity\n",
    "from sklearn.metrics.pairwise import laplacian_kernel"
   ]
  },
  {
   "cell_type": "code",
   "execution_count": 22,
   "metadata": {},
   "outputs": [],
   "source": [
    "vectorizer = TfidfVectorizer(lowercase=True, stop_words=stopwords.words('english'), max_features=2000)\n",
    "vectors_train = vectorizer.fit_transform(newsgroups_train.data)\n",
    "vectors_test = vectorizer.transform(newsgroups_test.data)"
   ]
  },
  {
   "cell_type": "code",
   "execution_count": 23,
   "metadata": {},
   "outputs": [],
   "source": [
    "def cosine_kernel(X,Y):\n",
    "    return cosine_similarity(X, Y)"
   ]
  },
  {
   "cell_type": "code",
   "execution_count": 24,
   "metadata": {},
   "outputs": [
    {
     "name": "stdout",
     "output_type": "stream",
     "text": [
      "Kernel: cosine_similarity\n",
      "Test accuracy = 0.7855209742895806\n"
     ]
    }
   ],
   "source": [
    "clf = SVC(kernel=cosine_kernel)\n",
    "clf.fit(vectors_train, newsgroups_train.target)\n",
    "pred = clf.predict(vectors_test)\n",
    "print ('Kernel: cosine_similarity')\n",
    "print ('Test accuracy = ' + str(accuracy_score(newsgroups_test.target, pred)))"
   ]
  },
  {
   "cell_type": "code",
   "execution_count": 25,
   "metadata": {},
   "outputs": [],
   "source": [
    "def lap_kernel(X,Y):\n",
    "    return laplacian_kernel(X, Y)"
   ]
  },
  {
   "cell_type": "code",
   "execution_count": 26,
   "metadata": {},
   "outputs": [
    {
     "name": "stdout",
     "output_type": "stream",
     "text": [
      "Kernel: laplacian_kernel\n",
      "Test accuracy = 0.2665764546684709\n"
     ]
    }
   ],
   "source": [
    "clf = SVC(kernel=lap_kernel)\n",
    "clf.fit(vectors_train, newsgroups_train.target)\n",
    "pred = clf.predict(vectors_test)\n",
    "print ('Kernel: laplacian_kernel')\n",
    "print ('Test accuracy = ' + str(accuracy_score(newsgroups_test.target, pred)))"
   ]
  },
  {
   "cell_type": "code",
   "execution_count": null,
   "metadata": {},
   "outputs": [],
   "source": []
  },
  {
   "cell_type": "markdown",
   "metadata": {},
   "source": [
    "\n",
    "Question 9: Another way to construct a kernel is use a linear combination of 2 kernels. Let K be a kernel represented as:\n",
    "K(x, y) = αK1(x, y) + (1 − α)K2(x, y) (0 ≤ α ≤ 1)\n",
    "Why is K a valid kernel? Does your reasoning hold true for other values of α as well? Let K1 be the ’cosine similarity’ and K2 be ’Laplacian Kernel’. Using K as kernel, train a SVM model to tune the value of α (upto one decimal) and report the accuracy on the test data using the selected parameter. (15 marks)"
   ]
  },
  {
   "cell_type": "code",
   "execution_count": 27,
   "metadata": {},
   "outputs": [],
   "source": [
    "vectorizer = TfidfVectorizer(lowercase=True, stop_words=stopwords.words('english'), max_features=2000)\n",
    "vectors_train = vectorizer.fit_transform(newsgroups_train.data)\n",
    "vectors_test = vectorizer.transform(newsgroups_test.data)\n",
    "\n",
    "train_data, val_data, train_label, val_label = train_test_split(vectors_train, newsgroups_train.target, test_size=0.2, random_state=10)"
   ]
  },
  {
   "cell_type": "code",
   "execution_count": 28,
   "metadata": {},
   "outputs": [],
   "source": [
    "def kernel_comb_alpha(alpha):\n",
    "    def kernel_comb(X, Y):\n",
    "        return alpha*cosine_similarity(X, Y) + (1-alpha)*laplacian_kernel(X, Y)\n",
    "    return kernel_comb"
   ]
  },
  {
   "cell_type": "code",
   "execution_count": 29,
   "metadata": {},
   "outputs": [
    {
     "name": "stdout",
     "output_type": "stream",
     "text": [
      "Kernel: Combination of cosine_similarity and laplacian_kernel\n",
      "For alpha =  0.0   Validation accuracy = 0.2449438202247191\n",
      "For alpha =  0.1   Validation accuracy = 0.7640449438202247\n",
      "For alpha =  0.2   Validation accuracy = 0.8179775280898877\n",
      "For alpha =  0.3   Validation accuracy = 0.8359550561797753\n",
      "For alpha =  0.4   Validation accuracy = 0.8382022471910112\n",
      "For alpha =  0.5   Validation accuracy = 0.8471910112359551\n",
      "For alpha =  0.6   Validation accuracy = 0.851685393258427\n",
      "For alpha =  0.7   Validation accuracy = 0.8539325842696629\n",
      "For alpha =  0.8   Validation accuracy = 0.8449438202247191\n",
      "For alpha =  0.9   Validation accuracy = 0.8471910112359551\n",
      "For alpha =  1.0   Validation accuracy = 0.8449438202247191\n"
     ]
    }
   ],
   "source": [
    "Alpha = [0.0, 0.1, 0.2, 0.3, 0.4, 0.5, 0.6, 0.7, 0.8, 0.9, 1.0]\n",
    "\n",
    "print ('Kernel: Combination of cosine_similarity and laplacian_kernel')\n",
    "for alpha in Alpha:\n",
    "    clf = SVC(kernel=kernel_comb_alpha(alpha))\n",
    "    clf.fit(train_data, train_label)\n",
    "    pred = clf.predict(val_data)\n",
    "    print ('For alpha = ',alpha,'  Validation accuracy = ' + str(accuracy_score(val_label, pred)))"
   ]
  },
  {
   "cell_type": "markdown",
   "metadata": {},
   "source": [
    "From the above, best alpha chosen is 0.7"
   ]
  },
  {
   "cell_type": "code",
   "execution_count": 30,
   "metadata": {},
   "outputs": [
    {
     "name": "stdout",
     "output_type": "stream",
     "text": [
      "Test accuracy = 0.793640054127199\n"
     ]
    }
   ],
   "source": [
    "clf = SVC(kernel=kernel_comb_alpha(0.7))\n",
    "clf.fit(vectors_train, newsgroups_train.target)\n",
    "pred = clf.predict(vectors_test)\n",
    "print ('Test accuracy = ' + str(accuracy_score(newsgroups_test.target, pred)))"
   ]
  },
  {
   "cell_type": "markdown",
   "metadata": {},
   "source": [
    "Mercer’s condition\n",
    "A function k : X   X → R is a valid kernel function if it corresponds to some embedding: that is, if there exists Φ defined on X such that\n",
    "k(x , z) = Φ(x) · Φ(z).\n",
    "\n",
    "Since cosine_similarity and laplacian_kernel are valid kernels, addtion of the kernels involving only positive \n",
    "weights also is a valid kernel."
   ]
  },
  {
   "cell_type": "markdown",
   "metadata": {},
   "source": [
    "Linear combination (includes the sum of two kernels as a special case)\n",
    "\n",
    "A linear combination of kernel functions involving only positive weights, i.e.,\n",
    "\n",
    "K(x,x′)=∑j=1mαjKj(x,x′),with αj≥0,\n",
    "is a valid kernel function. \n",
    "\n",
    "Proof: By construction, the Gram matrix is given by\n",
    "K=∑(j=1 to m)αjKj\n",
    "which implies that\n",
    "∀a∈ℝn,aTKa=∑(j=1 to m)αjaTKja≥0\n",
    "due to the positivity of the αj and the validity of the kernels Kj.\n",
    "\n",
    "Based on above reasoing Alpha and (1-Alpha) should be positive \n",
    "\n",
    "\n",
    "\n",
    "\n"
   ]
  },
  {
   "cell_type": "code",
   "execution_count": null,
   "metadata": {},
   "outputs": [],
   "source": []
  }
 ],
 "metadata": {
  "kernelspec": {
   "display_name": "Python 3",
   "language": "python",
   "name": "python3"
  },
  "language_info": {
   "codemirror_mode": {
    "name": "ipython",
    "version": 3
   },
   "file_extension": ".py",
   "mimetype": "text/x-python",
   "name": "python",
   "nbconvert_exporter": "python",
   "pygments_lexer": "ipython3",
   "version": "3.6.4"
  }
 },
 "nbformat": 4,
 "nbformat_minor": 2
}
