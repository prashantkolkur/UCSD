{
 "cells": [
  {
   "cell_type": "code",
   "execution_count": 1,
   "metadata": {},
   "outputs": [],
   "source": [
    "import pandas as pd\n",
    "import numpy as np"
   ]
  },
  {
   "cell_type": "markdown",
   "metadata": {},
   "source": [
    "# 2 Data\n",
    "Download the MNIST train and test data from github along with their corre- sponding label files. The train and test data consist of 6000 and 1000 binarized MNIST images respectively."
   ]
  },
  {
   "cell_type": "code",
   "execution_count": 2,
   "metadata": {},
   "outputs": [],
   "source": [
    "train_data = pd.read_csv(\"mnist_train_data.csv\", header=None)\n",
    "train_label = pd.read_csv(\"mnist_train_labels.csv\", header=None, names=['label'])\n",
    "test_data = pd.read_csv(\"mnist_test_data.csv\", header=None)\n",
    "test_label = pd.read_csv(\"mnist_test_labels.csv\", header=None)"
   ]
  },
  {
   "cell_type": "markdown",
   "metadata": {},
   "source": [
    "# 3 Generative Learning\n",
    "Please don’t use the direct function from scikit-learn library for questions 1, 2, 3 and write your own implementation for them."
   ]
  },
  {
   "cell_type": "markdown",
   "metadata": {},
   "source": [
    "Question 1: Compute and report the prior probabilities πj for all labels. (10 marks)\n"
   ]
  },
  {
   "cell_type": "code",
   "execution_count": 3,
   "metadata": {},
   "outputs": [
    {
     "name": "stdout",
     "output_type": "stream",
     "text": [
      "Prior Probability of label: 0  =  0.09866666666666667\n",
      "Prior Probability of label: 1  =  0.11183333333333334\n",
      "Prior Probability of label: 2  =  0.09683333333333333\n",
      "Prior Probability of label: 3  =  0.10133333333333333\n",
      "Prior Probability of label: 4  =  0.10383333333333333\n",
      "Prior Probability of label: 5  =  0.08566666666666667\n",
      "Prior Probability of label: 6  =  0.10133333333333333\n",
      "Prior Probability of label: 7  =  0.1085\n",
      "Prior Probability of label: 8  =  0.09183333333333334\n",
      "Prior Probability of label: 9  =  0.10016666666666667\n"
     ]
    }
   ],
   "source": [
    "pi_j = []\n",
    "for i in np.unique(train_label):\n",
    "    pi_j.append(sum(train_label['label']==i)/len(train_label))\n",
    "    print (\"Prior Probability of label:\",i,\" = \",pi_j[i])\n"
   ]
  },
  {
   "cell_type": "markdown",
   "metadata": {},
   "source": [
    "Question 2: For each pixel Xi and label j, compute Pji = P(Xi = 1|y = j) (Use the maximum likelihood estimate shown in class). Use Laplacian Smoothing for computing Pji. Report the highest Pji for each label j. (15 marks)"
   ]
  },
  {
   "cell_type": "code",
   "execution_count": 4,
   "metadata": {
    "scrolled": true
   },
   "outputs": [
    {
     "name": "stdout",
     "output_type": "stream",
     "text": [
      "Label 0  Highest Pji: 0.8518518518518519\n",
      "Label 1  Highest Pji: 0.9851411589895989\n",
      "Label 2  Highest Pji: 0.7289879931389366\n",
      "Label 3  Highest Pji: 0.8081967213114755\n",
      "Label 4  Highest Pji: 0.8496\n",
      "Label 5  Highest Pji: 0.7112403100775194\n",
      "Label 6  Highest Pji: 0.8491803278688524\n",
      "Label 7  Highest Pji: 0.7947932618683001\n",
      "Label 8  Highest Pji: 0.8752260397830018\n",
      "Label 9  Highest Pji: 0.867330016583748\n"
     ]
    }
   ],
   "source": [
    "pji = []\n",
    "for j in range(10):\n",
    "    data = train_data[train_label['label']==j]\n",
    "    p = []\n",
    "    for i in range(784):\n",
    "        p.append((sum(data[i]==1)+1)/(len(data)+2))\n",
    "    pji.append(p)\n",
    "\n",
    "for j in range(10):\n",
    "    print (\"Label\",j,\" Highest Pji:\",max(pji[j]))"
   ]
  },
  {
   "cell_type": "code",
   "execution_count": null,
   "metadata": {},
   "outputs": [],
   "source": []
  },
  {
   "cell_type": "markdown",
   "metadata": {},
   "source": [
    "Question 3: Use naive bayes (as shown in lecture slides) to classify the test data. Report the accuracy. (5 marks)"
   ]
  },
  {
   "cell_type": "code",
   "execution_count": 5,
   "metadata": {
    "scrolled": true
   },
   "outputs": [],
   "source": [
    "nb = [[np.log(pi_j[j]) + sum(test_data.iloc[i]*np.log(pji[j]) + (1-test_data.iloc[i])*np.log(1-np.array(pji[j])))\n",
    "         for j in range(10)]\n",
    "            for i in range(len(test_data))]\n",
    "        "
   ]
  },
  {
   "cell_type": "code",
   "execution_count": 6,
   "metadata": {
    "scrolled": true
   },
   "outputs": [],
   "source": [
    "test_pred = []\n",
    "for i in range(len(nb)):\n",
    "    test_pred.append(nb[i].index(max(nb[i])))"
   ]
  },
  {
   "cell_type": "code",
   "execution_count": 7,
   "metadata": {
    "scrolled": true
   },
   "outputs": [
    {
     "name": "stdout",
     "output_type": "stream",
     "text": [
      "Test Accuracy 0.809\n"
     ]
    }
   ],
   "source": [
    "print (\"Test Accuracy\",((pd.DataFrame(test_pred)==test_label)[0].sum())/len(test_label))"
   ]
  },
  {
   "cell_type": "markdown",
   "metadata": {},
   "source": [
    "Question 4: Compute the confusion matrix (as shown in the lectures) and report the top 3 pairs with most (absolute number) incorrect classifications. (10 marks)\n"
   ]
  },
  {
   "cell_type": "code",
   "execution_count": 8,
   "metadata": {},
   "outputs": [],
   "source": [
    "from sklearn.metrics import confusion_matrix"
   ]
  },
  {
   "cell_type": "code",
   "execution_count": 9,
   "metadata": {},
   "outputs": [
    {
     "name": "stdout",
     "output_type": "stream",
     "text": [
      "Confusion Matrix:\n",
      "[[ 74   0   0   0   0   5   2   0   4   0]\n",
      " [  0 120   0   0   0   4   1   0   1   0]\n",
      " [  1   7  88   4   0   1   2   3   8   2]\n",
      " [  0   2   1  86   1   6   3   2   3   3]\n",
      " [  1   1   1   0  83   0   2   0   1  21]\n",
      " [  3   1   1  11   2  62   2   3   1   1]\n",
      " [  3   0   4   0   3   4  73   0   0   0]\n",
      " [  0   6   2   0   3   1   0  77   3   7]\n",
      " [  0   2   2   9   4   3   1   2  61   5]\n",
      " [  0   1   0   1   4   0   0   0   3  85]]\n"
     ]
    }
   ],
   "source": [
    "cnf_matrix = confusion_matrix(np.array(test_label[0]), np.array(test_pred))\n",
    "print (\"Confusion Matrix:\")\n",
    "print (cnf_matrix)\n"
   ]
  },
  {
   "cell_type": "code",
   "execution_count": 10,
   "metadata": {},
   "outputs": [],
   "source": [
    "maximum = {}\n",
    "for i in range(10):\n",
    "    for j in range(10):\n",
    "        if i!=j:\n",
    "            #maximum[(i,j)] = confusion_matrix[i][j]\n",
    "            maximum[cnf_matrix[i][j]] = (i,j)"
   ]
  },
  {
   "cell_type": "code",
   "execution_count": 11,
   "metadata": {},
   "outputs": [
    {
     "name": "stdout",
     "output_type": "stream",
     "text": [
      "1st Most incorrect classification pair: (4, 9) value: 21\n",
      "2nd Most incorrect classification pair: (5, 3) value: 11\n",
      "3rd Most incorrect classification pair: (8, 3) value: 9\n"
     ]
    }
   ],
   "source": [
    "print (\"1st Most incorrect classification pair:\",maximum[sorted(maximum)[-1]],\"value:\",sorted(maximum)[-1])\n",
    "print (\"2nd Most incorrect classification pair:\",maximum[sorted(maximum)[-2]],\"value:\",sorted(maximum)[-2])\n",
    "print (\"3rd Most incorrect classification pair:\",maximum[sorted(maximum)[-3]],\"value:\",sorted(maximum)[-3])"
   ]
  },
  {
   "cell_type": "markdown",
   "metadata": {},
   "source": [
    "Question 5: Visualizing mistakes: Print two MNIST images from the test data that your classifier misclassified. Write both the true and predicted labels for both of these misclassified digits. (10 marks)"
   ]
  },
  {
   "cell_type": "code",
   "execution_count": 12,
   "metadata": {},
   "outputs": [],
   "source": [
    "import matplotlib.pyplot as plt"
   ]
  },
  {
   "cell_type": "code",
   "execution_count": 13,
   "metadata": {},
   "outputs": [
    {
     "data": {
      "image/png": "[encoded data removed]",
      "text/plain": [
       "<matplotlib.figure.Figure at 0x11a379240>"
      ]
     },
     "metadata": {},
     "output_type": "display_data"
    },
    {
     "name": "stdout",
     "output_type": "stream",
     "text": [
      "True Label 5\n",
      "Predicted Label 4\n"
     ]
    },
    {
     "data": {
      "image/png": "[encoded data removed]",
      "text/plain": [
       "<matplotlib.figure.Figure at 0x11a3bdb38>"
      ]
     },
     "metadata": {},
     "output_type": "display_data"
    },
    {
     "name": "stdout",
     "output_type": "stream",
     "text": [
      "True Label 5\n",
      "Predicted Label 3\n"
     ]
    }
   ],
   "source": [
    "plt.gray()\n",
    "test_label_list = list(test_label[0].values)\n",
    "count = 0\n",
    "for i in range(len(test_pred)):\n",
    "    if test_label_list[i]!=test_pred[i]:\n",
    "        count = count + 1\n",
    "        plt.imshow(np.reshape(test_data.iloc[i].values, (28,28)))\n",
    "        plt.show()\n",
    "        print (\"True Label\",test_label_list[i])\n",
    "        print (\"Predicted Label\",test_pred[i])\n",
    "        if count==2:\n",
    "            break"
   ]
  },
  {
   "cell_type": "code",
   "execution_count": null,
   "metadata": {},
   "outputs": [],
   "source": []
  },
  {
   "cell_type": "markdown",
   "metadata": {},
   "source": [
    "Now, we will implement Gaussian Mixture Model and Linear Discriminant Analysis on the breast cancer data (sklearn.datasets.load breast cancer) available in sklean.datasets. Load the data and split it into train-validation-test (40-20-40 split). Don’t shuffle the data, otherwise your results will be different."
   ]
  },
  {
   "cell_type": "markdown",
   "metadata": {},
   "source": [
    "\n",
    "Question 6: Implement Gaussian Mixture model on the data as shown in class. Tune the covariance type parameter on the validation data. Use the selected value to compute the test accuracy. As always, train the model on train+validation data to compute the test accuracy. (10 mark)"
   ]
  },
  {
   "cell_type": "code",
   "execution_count": 14,
   "metadata": {},
   "outputs": [],
   "source": [
    "from sklearn.model_selection import train_test_split\n",
    "from sklearn.mixture import GaussianMixture\n",
    "from sklearn.metrics import accuracy_score\n",
    "from sklearn.datasets import load_breast_cancer"
   ]
  },
  {
   "cell_type": "code",
   "execution_count": 15,
   "metadata": {},
   "outputs": [],
   "source": [
    "brest_cancer_data = load_breast_cancer()"
   ]
  },
  {
   "cell_type": "code",
   "execution_count": 16,
   "metadata": {},
   "outputs": [],
   "source": [
    "bc_data_train_val, bc_data_test, bc_label_train_val, bc_label_test = train_test_split(brest_cancer_data.data, brest_cancer_data.target, test_size = 0.4, shuffle=False)"
   ]
  },
  {
   "cell_type": "code",
   "execution_count": 17,
   "metadata": {},
   "outputs": [],
   "source": [
    "bc_data_train, bc_data_val, bc_label_train, bc_label_val = train_test_split(bc_data_train_val, bc_label_train_val, test_size=0.33, shuffle=False)"
   ]
  },
  {
   "cell_type": "code",
   "execution_count": 18,
   "metadata": {
    "scrolled": true
   },
   "outputs": [
    {
     "name": "stdout",
     "output_type": "stream",
     "text": [
      "Validation accuracy for covariance type full = 0.911504424778761\n",
      "Validation accuracy for covariance type tied = 0.8584070796460177\n",
      "Validation accuracy for covariance type diag = 0.9469026548672567\n",
      "Validation accuracy for covariance type spherical = 0.9734513274336283\n"
     ]
    }
   ],
   "source": [
    "# Model\n",
    "for cov in ['full', 'tied', 'diag', 'spherical']:\n",
    "    clf = GaussianMixture(n_components=2, covariance_type=cov, random_state=0)  \n",
    "    clf.means_init = np.array([bc_data_train[bc_label_train == i].mean(axis=0) for i in range(2)])\n",
    "    clf.fit(bc_data_train)\n",
    "\n",
    "    pred_val = clf.predict(bc_data_val)\n",
    "    #print (clf.covariances_.shape)\n",
    "    print ('Validation accuracy for covariance type '+ cov + ' = ' + str(accuracy_score(bc_label_val, pred_val)))"
   ]
  },
  {
   "cell_type": "code",
   "execution_count": null,
   "metadata": {},
   "outputs": [],
   "source": []
  },
  {
   "cell_type": "markdown",
   "metadata": {},
   "source": [
    "Based on the above results, covariance_type = 'spherical' is choosen"
   ]
  },
  {
   "cell_type": "code",
   "execution_count": 19,
   "metadata": {},
   "outputs": [
    {
     "name": "stdout",
     "output_type": "stream",
     "text": [
      "Test accuracy = 0.9385964912280702\n"
     ]
    }
   ],
   "source": [
    "# Best for spherical\n",
    "\n",
    "clf = GaussianMixture(n_components=2, covariance_type='spherical', random_state=0) \n",
    "clf.means_init = np.array([bc_data_train_val[bc_label_train_val == i].mean(axis=0) for i in range(2)])\n",
    "\n",
    "clf.fit(bc_data_train_val)\n",
    "pred_test = clf.predict(bc_data_test)\n",
    "print ('Test accuracy = ' + str(accuracy_score(bc_label_test, pred_test)))"
   ]
  },
  {
   "cell_type": "code",
   "execution_count": null,
   "metadata": {},
   "outputs": [],
   "source": []
  },
  {
   "cell_type": "markdown",
   "metadata": {},
   "source": [
    "Question 7: Apply Linear Discriminant Analysis model on the train+validation data and report the accuracy obtained on test data. Report the transformation matrix (w) along with the intercept. (5 mark)"
   ]
  },
  {
   "cell_type": "code",
   "execution_count": 20,
   "metadata": {},
   "outputs": [
    {
     "name": "stdout",
     "output_type": "stream",
     "text": [
      "Test accuracy = 0.9736842105263158\n"
     ]
    }
   ],
   "source": [
    "from sklearn.discriminant_analysis import LinearDiscriminantAnalysis\n",
    "from sklearn.datasets import load_breast_cancer\n",
    "\n",
    "brest_cancer_data = load_breast_cancer()\n",
    "bc_data_train_val, bc_data_test, bc_label_train_val, bc_label_test = train_test_split(brest_cancer_data.data, brest_cancer_data.target, test_size = 0.4, shuffle=False)\n",
    "\n",
    "# Intialize\n",
    "clf = LinearDiscriminantAnalysis()\n",
    "# Train\n",
    "clf.fit(bc_data_train_val, bc_label_train_val)\n",
    "# Test\n",
    "pred_test = clf.predict(bc_data_test)\n",
    "\n",
    "# print the accuracy\n",
    "print ('Test accuracy = ' + str(np.sum(pred_test == bc_label_test)/len(bc_label_test)))"
   ]
  },
  {
   "cell_type": "code",
   "execution_count": 21,
   "metadata": {},
   "outputs": [
    {
     "name": "stdout",
     "output_type": "stream",
     "text": [
      "Transformation matrix:\n",
      " [[ 1.44850540e+00]\n",
      " [-5.78558342e-02]\n",
      " [-1.63287905e-01]\n",
      " [-2.41591226e-03]\n",
      " [-1.47998227e+01]\n",
      " [ 2.02002879e+01]\n",
      " [-1.35274499e+00]\n",
      " [-9.28332478e+00]\n",
      " [ 4.70449033e+00]\n",
      " [-1.20819489e+01]\n",
      " [-2.28593080e+00]\n",
      " [-6.86881771e-02]\n",
      " [ 1.57174631e-01]\n",
      " [ 2.87696014e-03]\n",
      " [-7.62195534e+01]\n",
      " [-7.13914326e-01]\n",
      " [ 1.15732894e+01]\n",
      " [-4.54646862e+01]\n",
      " [ 3.43973413e+00]\n",
      " [ 5.46385722e+01]\n",
      " [-9.62759711e-01]\n",
      " [-1.96127587e-02]\n",
      " [-1.50437998e-02]\n",
      " [ 6.50322727e-03]\n",
      " [ 3.77295366e+00]\n",
      " [ 2.82494809e-01]\n",
      " [-1.64540854e+00]\n",
      " [-4.01125170e+00]\n",
      " [-4.42138568e+00]\n",
      " [-2.18611650e+01]]\n",
      "\n",
      "Intercept:\n",
      " [50.95842876]\n"
     ]
    }
   ],
   "source": [
    "print (\"Transformation matrix:\\n\",clf.scalings_)\n",
    "print (\"\\nIntercept:\\n\",clf.intercept_)"
   ]
  },
  {
   "cell_type": "code",
   "execution_count": null,
   "metadata": {},
   "outputs": [],
   "source": []
  },
  {
   "cell_type": "markdown",
   "metadata": {},
   "source": [
    "# 4 Evaluating Classifiers\n",
    "Question 8: Load the digits dataset (scikit-learn’s toy dataset) and take the last 1300 samples as your test set. Train a K-Nearest Neighbor (k=5, linf distance) model and then without using any scikit-learn method, report the final values for Specificity, Sensitivity, TPR, TNR, FNR, FPR, Precision and Recall for Digit 3 (this digit is a positive, everything else is a negative). (15 marks)"
   ]
  },
  {
   "cell_type": "code",
   "execution_count": 22,
   "metadata": {},
   "outputs": [],
   "source": [
    "from sklearn.datasets import load_digits\n",
    "from sklearn.neighbors import KNeighborsClassifier"
   ]
  },
  {
   "cell_type": "code",
   "execution_count": 23,
   "metadata": {},
   "outputs": [],
   "source": [
    "digits_data = load_digits()"
   ]
  },
  {
   "cell_type": "code",
   "execution_count": 24,
   "metadata": {},
   "outputs": [],
   "source": [
    "digits_train = digits_data['data'][0:len(digits_data['data'])-1300]\n",
    "digits_train_label = digits_data['target'][0:len(digits_data['target'])-1300]\n",
    "digits_test = digits_data['data'][len(digits_data['data'])-1300:]\n",
    "digits_test_label = digits_data['target'][len(digits_data['target'])-1300:]"
   ]
  },
  {
   "cell_type": "code",
   "execution_count": 25,
   "metadata": {},
   "outputs": [
    {
     "name": "stdout",
     "output_type": "stream",
     "text": [
      "accuracy = 0.8938461538461538\n"
     ]
    }
   ],
   "source": [
    "clf = KNeighborsClassifier(5, p=np.inf)\n",
    "clf.fit(digits_train, digits_train_label)\n",
    "\n",
    "pred_test = clf.predict(digits_test)\n",
    "print ('accuracy = ' + str(np.sum(pred_test == digits_test_label)/(len(digits_test_label))))"
   ]
  },
  {
   "cell_type": "code",
   "execution_count": 26,
   "metadata": {},
   "outputs": [],
   "source": [
    "confusion_matrix = np.zeros((10,10))\n",
    "\n",
    "for i in range(len(pred_test)):\n",
    "    confusion_matrix[digits_test_label[i]][pred_test[i]] = confusion_matrix[digits_test_label[i]][pred_test[i]] + 1\n"
   ]
  },
  {
   "cell_type": "code",
   "execution_count": 27,
   "metadata": {},
   "outputs": [
    {
     "name": "stdout",
     "output_type": "stream",
     "text": [
      "Confusion Matrix:\n",
      "\n",
      " [[126   0   0   0   1   0   0   0   0   0]\n",
      " [  1  90  23   1   0   0   3   0  11   1]\n",
      " [  2   0 120   4   0   0   0   0   1   1]\n",
      " [  0   1   4 113   0   1   0   2   2   7]\n",
      " [  3   1   0   0 118   1   5   1   3   1]\n",
      " [  1   0   0   5   0 121   4   0   0   1]\n",
      " [  0   0   0   0   0   0 129   0   1   0]\n",
      " [  0   0   0   0   0   1   0 128   0   1]\n",
      " [  1   6   8   0   0   2   1   1 107   2]\n",
      " [  1   9   0   3   0   4   0   2   3 110]]\n"
     ]
    }
   ],
   "source": [
    "print (\"Confusion Matrix:\\n\\n\", confusion_matrix.astype(int))"
   ]
  },
  {
   "cell_type": "code",
   "execution_count": 28,
   "metadata": {},
   "outputs": [],
   "source": [
    "confusion_matrix_digit_3 = np.matrix([[confusion_matrix[3][3], sum(confusion_matrix[3])-confusion_matrix[3][3]], \\\n",
    "               [sum(confusion_matrix[:,3])-confusion_matrix[3][3], confusion_matrix.sum()-sum(confusion_matrix[3])-sum(confusion_matrix[:,3])+confusion_matrix[3][3]]])\n"
   ]
  },
  {
   "cell_type": "code",
   "execution_count": 29,
   "metadata": {},
   "outputs": [
    {
     "data": {
      "text/html": [
       "<div>\n",
       "<style scoped>\n",
       "    .dataframe tbody tr th:only-of-type {\n",
       "        vertical-align: middle;\n",
       "    }\n",
       "\n",
       "    .dataframe tbody tr th {\n",
       "        vertical-align: top;\n",
       "    }\n",
       "\n",
       "    .dataframe thead th {\n",
       "        text-align: right;\n",
       "    }\n",
       "</style>\n",
       "<table border=\"1\" class=\"dataframe\">\n",
       "  <thead>\n",
       "    <tr style=\"text-align: right;\">\n",
       "      <th></th>\n",
       "      <th>Pred_3</th>\n",
       "      <th>Pred_not_3</th>\n",
       "    </tr>\n",
       "  </thead>\n",
       "  <tbody>\n",
       "    <tr>\n",
       "      <th>Actual_3</th>\n",
       "      <td>113</td>\n",
       "      <td>17</td>\n",
       "    </tr>\n",
       "    <tr>\n",
       "      <th>Actual_not_3</th>\n",
       "      <td>13</td>\n",
       "      <td>1157</td>\n",
       "    </tr>\n",
       "  </tbody>\n",
       "</table>\n",
       "</div>"
      ],
      "text/plain": [
       "              Pred_3  Pred_not_3\n",
       "Actual_3         113          17\n",
       "Actual_not_3      13        1157"
      ]
     },
     "execution_count": 29,
     "metadata": {},
     "output_type": "execute_result"
    }
   ],
   "source": [
    "df_confusion_matrix_digit_3 = pd.DataFrame(confusion_matrix_digit_3, columns=['Pred_3','Pred_not_3'], index=['Actual_3','Actual_not_3'], dtype=int)\n",
    "df_confusion_matrix_digit_3"
   ]
  },
  {
   "cell_type": "code",
   "execution_count": 30,
   "metadata": {},
   "outputs": [
    {
     "data": {
      "text/html": [
       "<div>\n",
       "<style scoped>\n",
       "    .dataframe tbody tr th:only-of-type {\n",
       "        vertical-align: middle;\n",
       "    }\n",
       "\n",
       "    .dataframe tbody tr th {\n",
       "        vertical-align: top;\n",
       "    }\n",
       "\n",
       "    .dataframe thead th {\n",
       "        text-align: right;\n",
       "    }\n",
       "</style>\n",
       "<table border=\"1\" class=\"dataframe\">\n",
       "  <thead>\n",
       "    <tr style=\"text-align: right;\">\n",
       "      <th></th>\n",
       "      <th>Positive</th>\n",
       "      <th>Negative</th>\n",
       "    </tr>\n",
       "  </thead>\n",
       "  <tbody>\n",
       "    <tr>\n",
       "      <th>True</th>\n",
       "      <td>113</td>\n",
       "      <td>17</td>\n",
       "    </tr>\n",
       "    <tr>\n",
       "      <th>False</th>\n",
       "      <td>13</td>\n",
       "      <td>1157</td>\n",
       "    </tr>\n",
       "  </tbody>\n",
       "</table>\n",
       "</div>"
      ],
      "text/plain": [
       "       Positive  Negative\n",
       "True        113        17\n",
       "False        13      1157"
      ]
     },
     "execution_count": 30,
     "metadata": {},
     "output_type": "execute_result"
    }
   ],
   "source": [
    "df_confusion_matrix_digit_3 = pd.DataFrame(confusion_matrix_digit_3, columns=['Positive','Negative'], index=['True','False'], dtype=int)\n",
    "df_confusion_matrix_digit_3"
   ]
  },
  {
   "cell_type": "code",
   "execution_count": 31,
   "metadata": {},
   "outputs": [],
   "source": [
    "Specificity = confusion_matrix_digit_3[1,1]/confusion_matrix_digit_3[1].sum()\n",
    "Sensitivity = confusion_matrix_digit_3[0,0]/confusion_matrix_digit_3[0].sum()\n",
    "Precision = confusion_matrix_digit_3[0,0]/confusion_matrix_digit_3[:,0].sum()"
   ]
  },
  {
   "cell_type": "code",
   "execution_count": 32,
   "metadata": {},
   "outputs": [],
   "source": [
    "TPR = confusion_matrix_digit_3[0,0]/confusion_matrix_digit_3[0].sum()\n",
    "TNR = confusion_matrix_digit_3[1,1]/confusion_matrix_digit_3[1].sum()\n",
    "FNR = confusion_matrix_digit_3[0,1]/confusion_matrix_digit_3[0].sum()\n",
    "#FNR=1-TPR\n",
    "FPR = confusion_matrix_digit_3[1,0]/confusion_matrix_digit_3[1].sum()\n",
    "Recall = TPR"
   ]
  },
  {
   "cell_type": "code",
   "execution_count": 33,
   "metadata": {},
   "outputs": [
    {
     "name": "stdout",
     "output_type": "stream",
     "text": [
      "Specificity: 0.9888888888888889\n",
      "Sensitivity: 0.8692307692307693\n",
      "Precision: 0.8968253968253969\n",
      "TPR: 0.8692307692307693\n",
      "TNR: 0.9888888888888889\n",
      "FNR: 0.13076923076923078\n",
      "FPR: 0.011111111111111112\n",
      "Recall: 0.8692307692307693\n"
     ]
    }
   ],
   "source": [
    "print (\"Specificity:\",Specificity)\n",
    "print (\"Sensitivity:\",Sensitivity)\n",
    "print (\"Precision:\",Precision)\n",
    "print (\"TPR:\",TPR)\n",
    "print (\"TNR:\",TNR)\n",
    "print (\"FNR:\",FNR)\n",
    "print (\"FPR:\",FPR)\n",
    "print (\"Recall:\",Recall)"
   ]
  },
  {
   "cell_type": "code",
   "execution_count": null,
   "metadata": {},
   "outputs": [],
   "source": []
  },
  {
   "cell_type": "markdown",
   "metadata": {},
   "source": [
    "\n",
    "# 5 Regression\n",
    "An ablation experiment consists of removing one feature from an experiment, in order to assess the amount of additional information that feature provides above and beyond the others. For this section, we will use the diabetes dataset from scikit-learn’s toy datasets. Split the data into training and testing data as a 90-10 split with random state of 10.\n"
   ]
  },
  {
   "cell_type": "code",
   "execution_count": 34,
   "metadata": {},
   "outputs": [],
   "source": [
    "from sklearn.datasets import load_diabetes"
   ]
  },
  {
   "cell_type": "code",
   "execution_count": 35,
   "metadata": {},
   "outputs": [],
   "source": [
    "diabetes_data = load_diabetes()"
   ]
  },
  {
   "cell_type": "code",
   "execution_count": 36,
   "metadata": {},
   "outputs": [],
   "source": [
    "diabetes_data_train, diabetes_data_test, diabetes_data_label_train, diabetes_data_label_test = train_test_split(diabetes_data.data, diabetes_data.target, test_size = 0.1, random_state=10)"
   ]
  },
  {
   "cell_type": "markdown",
   "metadata": {},
   "source": [
    "Question 9: Perform least squares regression on this dataset. Report the mean squared error and the mean absolute error on the test data. (5 marks)"
   ]
  },
  {
   "cell_type": "code",
   "execution_count": 37,
   "metadata": {},
   "outputs": [],
   "source": [
    "# Least squares regression\n",
    "theta,residuals,rank,s = np.linalg.lstsq(diabetes_data_train, diabetes_data_label_train, rcond=None)"
   ]
  },
  {
   "cell_type": "code",
   "execution_count": 38,
   "metadata": {},
   "outputs": [
    {
     "name": "stdout",
     "output_type": "stream",
     "text": [
      "28060.62255931054\n"
     ]
    }
   ],
   "source": [
    "# Make predictions on the test data\n",
    "predictions = np.dot(diabetes_data_test, theta)\n",
    "# Let's see the output on training data as well, to see the training error\n",
    "y_true_pred = np.dot(diabetes_data_train, theta)\n",
    "# MSE calculation\n",
    "from sklearn.metrics import mean_squared_error\n",
    "print (mean_squared_error(diabetes_data_label_test, predictions))\n",
    "#print (mean_squared_error(diabetes_data_label_train, y_true_pred))"
   ]
  },
  {
   "cell_type": "code",
   "execution_count": 39,
   "metadata": {},
   "outputs": [
    {
     "name": "stdout",
     "output_type": "stream",
     "text": [
      "160.8439534334583\n"
     ]
    }
   ],
   "source": [
    "# MAE calculation\n",
    "from sklearn.metrics import mean_absolute_error\n",
    "print (mean_absolute_error(diabetes_data_label_test, predictions))\n",
    "#print (mean_absolute_error(diabetes_data_label_train, y_true_pred))"
   ]
  },
  {
   "cell_type": "markdown",
   "metadata": {},
   "source": [
    "Question 10: Repeat the experiment from Question 10 for all possible values of ablation (i.e., removing the feature 1 only, then removing the feature 2 only, and so on). Report all MSEs. (10 marks)"
   ]
  },
  {
   "cell_type": "code",
   "execution_count": 40,
   "metadata": {},
   "outputs": [
    {
     "name": "stdout",
     "output_type": "stream",
     "text": [
      "Feature removed: 0   MSE: 25835.45614572961\n",
      "Feature removed: 1   MSE: 25963.509410892115\n",
      "Feature removed: 2   MSE: 26117.78113034645\n",
      "Feature removed: 3   MSE: 25932.067639245513\n",
      "Feature removed: 4   MSE: 25837.2062805149\n",
      "Feature removed: 5   MSE: 25837.11626632769\n",
      "Feature removed: 6   MSE: 25849.17168725327\n",
      "Feature removed: 7   MSE: 25835.828130257145\n",
      "Feature removed: 8   MSE: 25920.1352209274\n",
      "Feature removed: 9   MSE: 25846.88235000444\n"
     ]
    }
   ],
   "source": [
    "for i in range(10):\n",
    "    data = pd.DataFrame(diabetes_data_train)\n",
    "    del data[i]\n",
    "    data = np.array(data)\n",
    "    theta,residuals,rank,s = np.linalg.lstsq(data, diabetes_data_label_train, rcond=None)\n",
    "    diabetes_train_pred = np.dot(data, theta)\n",
    "    print (\"Feature removed:\",i,\"  MSE:\",mean_squared_error(diabetes_data_label_train, diabetes_train_pred))"
   ]
  },
  {
   "cell_type": "markdown",
   "metadata": {},
   "source": [
    "Question 11: Based on the MSE values obtained from Question 11, which features do you deem the most/least significant and why? (5 marks)\n"
   ]
  },
  {
   "cell_type": "code",
   "execution_count": 41,
   "metadata": {},
   "outputs": [
    {
     "name": "stdout",
     "output_type": "stream",
     "text": [
      "Features Removed [0, 4, 5, 7, 9] MSE: 25851.38584730351\n"
     ]
    }
   ],
   "source": [
    "data = pd.DataFrame(diabetes_data_train)\n",
    "#data_test = pd.DataFrame(diabetes_data_test)\n",
    "del data[0], data[4], data[5], data[7], data[9]\n",
    "#del data_test[0], data_test[7], data_test[4], data_test[5], data_test[9]\n",
    "data = np.array(data)\n",
    "#data_test = np.array(data_test)\n",
    "theta,residuals,rank,s = np.linalg.lstsq(data, diabetes_data_label_train, rcond=None)\n",
    "diabetes_train_pred = np.dot(data, theta)\n",
    "print (\"Features Removed [0, 4, 5, 7, 9] MSE:\",mean_squared_error(diabetes_data_label_train, diabetes_train_pred))\n",
    "#diabetes_test_pred = np.dot(data_test, theta)\n",
    "#print (\"Test MSE:\",mean_squared_error(diabetes_data_label_test, diabetes_test_pred))"
   ]
  },
  {
   "cell_type": "code",
   "execution_count": 42,
   "metadata": {},
   "outputs": [
    {
     "name": "stdout",
     "output_type": "stream",
     "text": [
      "Features Removed [1, 2, 3, 6, 8] MSE: 27048.113570844143\n"
     ]
    }
   ],
   "source": [
    "data = pd.DataFrame(diabetes_data_train)\n",
    "#data_test = pd.DataFrame(diabetes_data_test)\n",
    "del data[1], data[2], data[3], data[6], data[8]\n",
    "#del data_test[0], data_test[7], data_test[4], data_test[5], data_test[9]\n",
    "data = np.array(data)\n",
    "#data_test = np.array(data_test)\n",
    "theta,residuals,rank,s = np.linalg.lstsq(data, diabetes_data_label_train, rcond=None)\n",
    "diabetes_train_pred = np.dot(data, theta)\n",
    "print (\"Features Removed [1, 2, 3, 6, 8] MSE:\",mean_squared_error(diabetes_data_label_train, diabetes_train_pred))\n",
    "#diabetes_test_pred = np.dot(data_test, theta)\n",
    "#print (\"Test MSE:\",mean_squared_error(diabetes_data_label_test, diabetes_test_pred))"
   ]
  },
  {
   "cell_type": "code",
   "execution_count": 43,
   "metadata": {},
   "outputs": [
    {
     "name": "stdout",
     "output_type": "stream",
     "text": [
      "From the Above Analysis for the Most significant features MSE increased a lot and for Least significant features MSE didnt increase much\n",
      "Most Significant feature : [1, 2, 3, 6, 8]\n",
      "Least Significant feature: [0, 4, 5, 7, 9]\n"
     ]
    }
   ],
   "source": [
    "print (\"From the Above Analysis for the Most significant features MSE increased a lot and for Least significant features MSE didnt increase much\")\n",
    "print (\"Most Significant feature : [1, 2, 3, 6, 8]\")\n",
    "print (\"Least Significant feature: [0, 4, 5, 7, 9]\")"
   ]
  },
  {
   "cell_type": "code",
   "execution_count": null,
   "metadata": {},
   "outputs": [],
   "source": []
  }
 ],
 "metadata": {
  "kernelspec": {
   "display_name": "Python 3",
   "language": "python",
   "name": "python3"
  },
  "language_info": {
   "codemirror_mode": {
    "name": "ipython",
    "version": 3
   },
   "file_extension": ".py",
   "mimetype": "text/x-python",
   "name": "python",
   "nbconvert_exporter": "python",
   "pygments_lexer": "ipython3",
   "version": "3.6.4"
  }
 },
 "nbformat": 4,
 "nbformat_minor": 2
}
