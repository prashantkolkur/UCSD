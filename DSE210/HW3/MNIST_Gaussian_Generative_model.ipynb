{
 "cells": [
  {
   "cell_type": "code",
   "execution_count": 771,
   "metadata": {
    "collapsed": true
   },
   "outputs": [],
   "source": [
    "from struct import unpack\n",
    "import numpy as np\n",
    "import matplotlib.pylab as plt \n",
    "\n",
    "def loadmnist(imagefile, labelfile):\n",
    "\n",
    "    # Open the images with gzip in read binary mode\n",
    "    images = open(imagefile, 'rb')\n",
    "    labels = open(labelfile, 'rb')\n",
    "\n",
    "    # Get metadata for images\n",
    "    images.read(4)  # skip the magic_number\n",
    "    number_of_images = images.read(4)\n",
    "    number_of_images = unpack('>I', number_of_images)[0]\n",
    "    rows = images.read(4)\n",
    "    rows = unpack('>I', rows)[0]\n",
    "    cols = images.read(4)\n",
    "    cols = unpack('>I', cols)[0]\n",
    "\n",
    "    # Get metadata for labels\n",
    "    labels.read(4)\n",
    "    N = labels.read(4)\n",
    "    N = unpack('>I', N)[0]\n",
    "\n",
    "    # Get data\n",
    "    x = np.zeros((N, rows*cols), dtype=np.uint8)  # Initialize numpy array\n",
    "    y = np.zeros(N, dtype=np.uint8)  # Initialize numpy array\n",
    "    for i in range(N):\n",
    "        for j in range(rows*cols):\n",
    "            tmp_pixel = images.read(1)  # Just a single byte\n",
    "            tmp_pixel = unpack('>B', tmp_pixel)[0]\n",
    "            x[i][j] = tmp_pixel\n",
    "        tmp_label = labels.read(1)\n",
    "        y[i] = unpack('>B', tmp_label)[0]\n",
    "\n",
    "    images.close()\n",
    "    labels.close()\n",
    "    return (x, y)\n",
    "\n",
    "def displaychar(image):\n",
    "    plt.imshow(np.reshape(image, (28,28)), cmap=plt.cm.gray)\n",
    "    plt.axis('off')\n",
    "    plt.show()"
   ]
  },
  {
   "cell_type": "code",
   "execution_count": 772,
   "metadata": {
    "collapsed": true
   },
   "outputs": [],
   "source": [
    "(images,labels)=loadmnist(\"train-images-idx3-ubyte\", \"train-labels-idx1-ubyte\")"
   ]
  },
  {
   "cell_type": "code",
   "execution_count": 773,
   "metadata": {},
   "outputs": [
    {
     "data": {
      "text/plain": [
       "(60000, 784)"
      ]
     },
     "execution_count": 773,
     "metadata": {},
     "output_type": "execute_result"
    }
   ],
   "source": [
    "images.shape"
   ]
  },
  {
   "cell_type": "code",
   "execution_count": 774,
   "metadata": {},
   "outputs": [
    {
     "data": {
      "image/png": "[encoded data removed]",
      "text/plain": [
       "<matplotlib.figure.Figure at 0x11bcf6310>"
      ]
     },
     "metadata": {},
     "output_type": "display_data"
    }
   ],
   "source": [
    "displaychar(images[0])"
   ]
  },
  {
   "cell_type": "code",
   "execution_count": null,
   "metadata": {},
   "outputs": [],
   "source": []
  },
  {
   "cell_type": "code",
   "execution_count": 775,
   "metadata": {},
   "outputs": [],
   "source": [
    "import pandas as pd\n",
    "import scipy.stats"
   ]
  },
  {
   "cell_type": "code",
   "execution_count": 776,
   "metadata": {
    "collapsed": true
   },
   "outputs": [],
   "source": [
    "training_set_images=images[0:50000]\n",
    "training_set_labels=labels[0:50000]\n",
    "validation_set_images=images[50000:]\n",
    "validation_set_labels=labels[50000:]"
   ]
  },
  {
   "cell_type": "code",
   "execution_count": 777,
   "metadata": {
    "collapsed": true
   },
   "outputs": [],
   "source": [
    "digits = pd.DataFrame(training_set_labels, columns=['digit'])\n",
    "pi = []\n",
    "total = len(training_set_labels) + 0.0\n",
    "for i in range(10):\n",
    "    pi.append(len(digits[digits['digit']==i])/total)\n"
   ]
  },
  {
   "cell_type": "code",
   "execution_count": 778,
   "metadata": {},
   "outputs": [],
   "source": [
    "#Gaussian N(mean,cov)\n",
    "\n",
    "digit_cov_matrix = []\n",
    "digit_mean = []\n",
    "for i in range(10):\n",
    "    digit_class = training_set_images[digits['digit']==i]\n",
    "    digit_cov = np.cov(digit_class.T)\n",
    "    #digit_cov_matrix.append(digit_cov + c*np.identity(784))\n",
    "    digit_cov_matrix.append(digit_cov)\n",
    "    #A+CI where A is cov matric and I is Identity matrix. c is a constant. This is done to avoid det of matrix=0\n",
    "    mean = []\n",
    "    for i in range(784):\n",
    "        mean.append(np.mean(digit_class[:,i]))\n",
    "    digit_mean.append(mean)\n",
    "\n"
   ]
  },
  {
   "cell_type": "code",
   "execution_count": 779,
   "metadata": {},
   "outputs": [
    {
     "name": "stdout",
     "output_type": "stream",
     "text": [
      "For c =  3000   Error rate =  4.14 %\n",
      "For c =  3250   Error rate =  4.11 %\n",
      "For c =  3350   Error rate =  4.1 %\n",
      "For c =  3500   Error rate =  4.13 %\n",
      "For c =  4000   Error rate =  4.14 %\n"
     ]
    }
   ],
   "source": [
    "C = [3000, 3250, 3350, 3500, 4000]\n",
    "c = 0\n",
    "for c in C:\n",
    "    gaussian_model = [scipy.stats.multivariate_normal(digit_mean[j], digit_cov_matrix[j]+c*np.identity(784)) for j in range(10)]\n",
    "\n",
    "    digit_prob = [[np.log(pi[j]) + gaussian_model[j].logpdf(validation_set_images[i]) for j in range(10)]\n",
    "              for i in range(len(validation_set_labels))]\n",
    "\n",
    "    digit_outcome = [np.where(digit_prob[i] == max(digit_prob[i]))[0][0] for i in range(len(digit_prob))]\n",
    "    \n",
    "    count = sum([digit_outcome[i] == validation_set_labels[i] for i in range(len(digit_outcome))])\n",
    "    \n",
    "    print \"For c = \",c,\"  Error rate = \",100-((count+0.0)/10000)*100,\"%\""
   ]
  },
  {
   "cell_type": "markdown",
   "metadata": {},
   "source": [
    "After checking with lot of different c values, the best i got is c=3350 for which the Error rate on validation\n",
    "set is 4.10%"
   ]
  },
  {
   "cell_type": "code",
   "execution_count": null,
   "metadata": {},
   "outputs": [],
   "source": []
  },
  {
   "cell_type": "code",
   "execution_count": 780,
   "metadata": {},
   "outputs": [],
   "source": [
    "(test_images,test_labels)=loadmnist(\"t10k-images-idx3-ubyte\", \"t10k-labels-idx1-ubyte\")"
   ]
  },
  {
   "cell_type": "code",
   "execution_count": 781,
   "metadata": {},
   "outputs": [
    {
     "name": "stdout",
     "output_type": "stream",
     "text": [
      "Error rate on Test data =  4.32 %\n"
     ]
    }
   ],
   "source": [
    "c = 3350\n",
    "gaussian_model = [scipy.stats.multivariate_normal(digit_mean[j], digit_cov_matrix[j]+c*np.identity(784)) for j in range(10)]\n",
    "\n",
    "digit_prob = [[np.log(pi[j]) + gaussian_model[j].logpdf(test_images[i]) for j in range(10)]\n",
    "              for i in range(len(test_images))]\n",
    "\n",
    "digit_outcome = [np.where(digit_prob[i] == max(digit_prob[i]))[0][0] for i in range(len(digit_prob))]\n",
    "    \n",
    "count = sum([digit_outcome[i] == test_labels[i] for i in range(len(digit_outcome))])\n",
    "    \n",
    "print \"Error rate on Test data = \",100-((count+0.0)/10000)*100,\"%\""
   ]
  },
  {
   "cell_type": "code",
   "execution_count": null,
   "metadata": {},
   "outputs": [],
   "source": []
  },
  {
   "cell_type": "code",
   "execution_count": null,
   "metadata": {
    "scrolled": true
   },
   "outputs": [],
   "source": []
  },
  {
   "cell_type": "code",
   "execution_count": 782,
   "metadata": {},
   "outputs": [
    {
     "name": "stdout",
     "output_type": "stream",
     "text": [
      " Actual digit:  9    Misclassified digit:  7\n"
     ]
    },
    {
     "data": {
      "image/png": "[encoded data removed]",
      "text/plain": [
       "<matplotlib.figure.Figure at 0x11c7e4cd0>"
      ]
     },
     "metadata": {},
     "output_type": "display_data"
    },
    {
     "name": "stdout",
     "output_type": "stream",
     "text": [
      "Posterior probability:  [-4175.5711269609092, -4143.41167039433, -4128.5374748637942, -4122.9959242992954, -4118.7305208875068, -4156.5087303346118, -4241.4071047878178, -4054.9860648237645, -4086.0657040610995, -4060.8455034368149] \n",
      "\n",
      " Actual digit:  7    Misclassified digit:  9\n"
     ]
    },
    {
     "data": {
      "image/png": "[encoded data removed]",
      "text/plain": [
       "<matplotlib.figure.Figure at 0x11f56e510>"
      ]
     },
     "metadata": {},
     "output_type": "display_data"
    },
    {
     "name": "stdout",
     "output_type": "stream",
     "text": [
      "Posterior probability:  [-4195.0664003830798, -4243.3099367106952, -4179.4708381532282, -4143.8181749760479, -4090.5573747294202, -4136.9182719635955, -4246.9311817546086, -4053.5322574626416, -4130.8060997856091, -4053.2355008765853] \n",
      "\n",
      " Actual digit:  7    Misclassified digit:  1\n"
     ]
    },
    {
     "data": {
      "image/png": "[encoded data removed]",
      "text/plain": [
       "<matplotlib.figure.Figure at 0x155ddb290>"
      ]
     },
     "metadata": {},
     "output_type": "display_data"
    },
    {
     "name": "stdout",
     "output_type": "stream",
     "text": [
      "Posterior probability:  [-4148.7183080561435, -4022.1883130630304, -4084.1188976231338, -4095.8449442288793, -4071.8716325938417, -4129.7339348194973, -4163.000706830283, -4032.4189970604534, -4063.991022239964, -4054.1426404826821] \n",
      "\n",
      " Actual digit:  9    Misclassified digit:  8\n"
     ]
    },
    {
     "data": {
      "image/png": "[encoded data removed]",
      "text/plain": [
       "<matplotlib.figure.Figure at 0x12dc51810>"
      ]
     },
     "metadata": {},
     "output_type": "display_data"
    },
    {
     "name": "stdout",
     "output_type": "stream",
     "text": [
      "Posterior probability:  [-4221.2641039781365, -4479.2471615266004, -4180.1498419790059, -4181.5801206506203, -4194.9744019787458, -4181.054259765082, -4329.8436399256052, -4263.4469941170728, -4149.2846010834237, -4172.8900611481513] \n",
      "\n",
      " Actual digit:  7    Misclassified digit:  1\n"
     ]
    },
    {
     "data": {
      "image/png": "[encoded data removed]",
      "text/plain": [
       "<matplotlib.figure.Figure at 0x11c6cd790>"
      ]
     },
     "metadata": {},
     "output_type": "display_data"
    },
    {
     "name": "stdout",
     "output_type": "stream",
     "text": [
      "Posterior probability:  [-4103.5883557854168, -4017.7219567447664, -4086.6465557983124, -4077.5782623438404, -4056.0327306493105, -4091.7350988666913, -4107.4905231837874, -4028.6098753538581, -4068.10497070981, -4030.8132370359854] \n",
      "\n"
     ]
    }
   ],
   "source": [
    "count = 0\n",
    "for i in range(len(digit_outcome)):\n",
    "    if digit_outcome[i] != test_labels[i]:\n",
    "        print \" Actual digit: \",test_labels[i],\"   Misclassified digit: \",digit_outcome[i]\n",
    "        count += 1\n",
    "        displaychar(test_images[i])\n",
    "        print \"Posterior probability: \",digit_prob[i],\"\\n\"\n",
    "        if count == 5:\n",
    "            break\n",
    "        "
   ]
  },
  {
   "cell_type": "code",
   "execution_count": null,
   "metadata": {},
   "outputs": [],
   "source": []
  },
  {
   "cell_type": "code",
   "execution_count": null,
   "metadata": {
    "collapsed": true
   },
   "outputs": [],
   "source": []
  }
 ],
 "metadata": {
  "kernelspec": {
   "display_name": "Python 2",
   "language": "python",
   "name": "python2"
  },
  "language_info": {
   "codemirror_mode": {
    "name": "ipython",
    "version": 2
   },
   "file_extension": ".py",
   "mimetype": "text/x-python",
   "name": "python",
   "nbconvert_exporter": "python",
   "pygments_lexer": "ipython2",
   "version": "2.7.13"
  }
 },
 "nbformat": 4,
 "nbformat_minor": 2
}
