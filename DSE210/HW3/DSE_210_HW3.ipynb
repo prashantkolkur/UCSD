{
 "cells": [
  {
   "cell_type": "code",
   "execution_count": 243,
   "metadata": {
    "collapsed": true
   },
   "outputs": [],
   "source": [
    "import numpy as np\n",
    "import scipy.stats"
   ]
  },
  {
   "cell_type": "markdown",
   "metadata": {
    "collapsed": true
   },
   "source": [
    "#SOLUTION 1"
   ]
  },
  {
   "cell_type": "code",
   "execution_count": 244,
   "metadata": {},
   "outputs": [],
   "source": [
    "mean = [0, 0]\n",
    "cov = [[9, 0], [0, 1]]"
   ]
  },
  {
   "cell_type": "code",
   "execution_count": 245,
   "metadata": {
    "scrolled": true
   },
   "outputs": [
    {
     "data": {
      "text/plain": [
       "array([[  4.04828267e+00,  -1.54710179e+00],\n",
       "       [ -3.44885176e+00,   1.57517811e+00],\n",
       "       [ -1.66394171e-01,   1.17510282e+00],\n",
       "       [ -1.42450473e+00,  -3.24299507e-03],\n",
       "       [  8.81104334e-01,   1.83274631e+00],\n",
       "       [ -7.10491169e-01,  -1.03779358e+00],\n",
       "       [  2.22885736e+00,   3.17119012e-01],\n",
       "       [  8.00071115e+00,   2.34442435e-01],\n",
       "       [  1.50529821e+00,  -8.48723106e-01],\n",
       "       [  2.81224056e+00,  -1.72719943e+00],\n",
       "       [ -3.98972638e+00,   7.98282680e-01],\n",
       "       [ -2.02937960e-01,  -5.30376492e-01],\n",
       "       [  1.00107533e+00,  -1.18704113e+00],\n",
       "       [ -5.43960229e+00,   1.29135130e+00],\n",
       "       [  9.22989020e+00,   5.75230217e-01],\n",
       "       [  2.73297881e-01,  -5.36387333e-01],\n",
       "       [ -5.63781034e-01,  -5.54884420e-02],\n",
       "       [ -5.57695685e+00,  -1.12769338e+00],\n",
       "       [ -1.44840146e-01,  -1.61646973e+00],\n",
       "       [  2.01112277e+00,   1.39731138e+00],\n",
       "       [  4.61179457e+00,  -3.19570090e-01],\n",
       "       [  2.52213737e+00,   1.62567099e+00],\n",
       "       [ -4.58409281e-01,   1.03651167e+00],\n",
       "       [ -2.36668283e+00,   1.96066814e+00],\n",
       "       [  2.97094248e-01,   3.35874618e-01],\n",
       "       [  1.44377629e+00,   2.52178955e-01],\n",
       "       [ -2.46319816e+00,   3.56366157e-02],\n",
       "       [ -2.48328358e+00,  -1.79379123e+00],\n",
       "       [  5.95930057e+00,  -6.91567459e-01],\n",
       "       [ -5.77456071e-01,  -4.55648591e-01],\n",
       "       [ -5.13596795e+00,   8.04121510e-01],\n",
       "       [ -2.16031034e+00,   1.17743594e+00],\n",
       "       [  7.24293775e-01,  -7.46324572e-01],\n",
       "       [  3.96167711e+00,  -1.10758456e+00],\n",
       "       [  7.83393293e-01,  -2.09381938e-03],\n",
       "       [  2.70564570e+00,   8.87618459e-01],\n",
       "       [ -3.65185728e+00,   1.42249526e-01],\n",
       "       [  1.16274758e+00,  -1.62471797e+00],\n",
       "       [ -4.89393133e+00,  -1.88614646e+00],\n",
       "       [  2.69644375e+00,   4.25035007e-01],\n",
       "       [ -1.99726940e+00,  -5.47652079e-01],\n",
       "       [  2.60817308e+00,   1.10888232e-01],\n",
       "       [ -2.60993496e+00,  -1.58511879e-01],\n",
       "       [  5.01100117e+00,  -1.89983347e-01],\n",
       "       [ -2.12933422e+00,   5.13369500e-01],\n",
       "       [  2.53566127e+00,  -4.65223208e-02],\n",
       "       [  1.64213013e+00,  -1.97833707e+00],\n",
       "       [  5.31783901e-01,  -1.16595619e+00],\n",
       "       [  3.25739137e+00,   1.28280386e+00],\n",
       "       [  4.33051479e+00,  -1.22473863e+00],\n",
       "       [ -1.32752945e+00,  -9.83881338e-01],\n",
       "       [  7.29440318e+00,   1.23411626e+00],\n",
       "       [  1.22559513e+00,  -3.73350486e-01],\n",
       "       [  6.02974697e+00,   2.26169354e+00],\n",
       "       [ -1.70153786e+00,   5.73718047e-01],\n",
       "       [  2.78594992e+00,  -1.72136839e+00],\n",
       "       [  4.02651213e+00,   8.90053961e-01],\n",
       "       [ -7.12359614e-01,   1.06876902e+00],\n",
       "       [  2.49611373e+00,   1.23947503e+00],\n",
       "       [  3.49157579e+00,   7.30054509e-01],\n",
       "       [ -2.11110303e+00,   8.79479503e-01],\n",
       "       [ -9.15680207e-01,   2.08981970e-01],\n",
       "       [  2.07407238e+00,   1.31028524e+00],\n",
       "       [ -2.92171775e+00,   1.28016688e+00],\n",
       "       [  3.54778760e+00,  -6.29991564e-01],\n",
       "       [ -2.48084910e-01,  -4.14688490e-01],\n",
       "       [  1.65487028e+00,  -2.69638782e-02],\n",
       "       [ -3.61546113e+00,  -1.13263582e+00],\n",
       "       [ -5.83227973e-01,   1.29479453e+00],\n",
       "       [  8.34369310e-01,  -6.83892204e-01],\n",
       "       [  4.10436791e+00,  -2.18465664e+00],\n",
       "       [  2.20647348e+00,   1.69466540e-01],\n",
       "       [ -3.39534455e-01,  -5.84571636e-01],\n",
       "       [  2.08018434e+00,   4.51520511e-01],\n",
       "       [  6.63262035e+00,  -4.96866359e-03],\n",
       "       [  2.16955242e+00,  -9.53495938e-01],\n",
       "       [  1.07767707e+00,  -1.35316399e+00],\n",
       "       [  9.56462154e-01,   6.02414070e-02],\n",
       "       [  2.39648887e+00,  -3.14877727e-01],\n",
       "       [  3.19245123e+00,  -9.96725347e-01],\n",
       "       [  7.03108720e-01,   6.16306745e-01],\n",
       "       [ -1.34832401e+00,  -6.61199839e-01],\n",
       "       [ -8.06246940e+00,  -1.74055405e-01],\n",
       "       [  7.10620749e+00,  -1.38283752e+00],\n",
       "       [  1.17532021e+00,  -1.04331477e+00],\n",
       "       [ -1.12861249e+00,   5.97820568e-01],\n",
       "       [ -3.42973056e+00,   9.90898257e-01],\n",
       "       [  3.38833182e+00,   6.40085709e-01],\n",
       "       [ -3.20400370e+00,  -3.60005206e-01],\n",
       "       [  2.31508208e+00,   3.33525214e-01],\n",
       "       [ -4.66911634e+00,   6.06919404e-02],\n",
       "       [  3.25681749e+00,   3.25567924e-01],\n",
       "       [ -5.59291839e+00,  -7.65688645e-01],\n",
       "       [  8.20840014e-01,   2.35552564e+00],\n",
       "       [ -2.75775412e+00,   3.52155743e-01],\n",
       "       [ -4.77491553e+00,  -8.81155584e-01],\n",
       "       [ -1.12971448e+00,   1.39110875e+00],\n",
       "       [ -1.63138941e+00,   8.09791436e-01],\n",
       "       [ -3.01041881e+00,  -2.08284152e+00],\n",
       "       [  1.36687769e-01,   4.53375170e-01]])"
      ]
     },
     "execution_count": 245,
     "metadata": {},
     "output_type": "execute_result"
    }
   ],
   "source": [
    "a= scipy.stats.multivariate_normal.rvs(mean=mean,cov=cov, size=100)\n",
    "a"
   ]
  },
  {
   "cell_type": "code",
   "execution_count": 246,
   "metadata": {},
   "outputs": [
    {
     "data": {
      "text/plain": [
       "array([ 0.00644965,  0.00792374,  0.02655703,  0.04739547,  0.00947499,\n",
       "        0.03010568,  0.03828256,  0.00147344,  0.03262947,  0.0076928 ,\n",
       "        0.01593168,  0.0459856 ,  0.0248053 ,  0.0044532 ,  0.00039574,\n",
       "        0.04575315,  0.05204289,  0.00499035,  0.01434804,  0.01596383,\n",
       "        0.0154655 ,  0.00993898,  0.03064328,  0.00568584,  0.04989678,\n",
       "        0.0457716 ,  0.03784717,  0.00753703,  0.00580764,  0.04694294,\n",
       "        0.00886851,  0.020467  ,  0.03900232,  0.0120126 ,  0.05127324,\n",
       "        0.02382266,  0.02503453,  0.01314842,  0.00236767,  0.03236264,\n",
       "        0.03658684,  0.03613267,  0.03588329,  0.01291271,  0.03614719,\n",
       "        0.03707656,  0.00645301,  0.02646514,  0.01292283,  0.00884118,\n",
       "        0.02964659,  0.00128882,  0.04551862,  0.0005454 ,  0.03831508,\n",
       "        0.00783433,  0.01450447,  0.029135  ,  0.01740875,  0.0206454 ,\n",
       "        0.02813252,  0.04954332,  0.01770513,  0.01455022,  0.02161861,\n",
       "        0.04851453,  0.04554761,  0.01351278,  0.02251365,  0.04039619,\n",
       "        0.00191367,  0.03990226,  0.04443375,  0.03767258,  0.0046056 ,\n",
       "        0.02592457,  0.01990992,  0.05033135,  0.03669452,  0.01832612,\n",
       "        0.04268657,  0.03853915,  0.00141173,  0.0012333 ,  0.02851043,\n",
       "        0.041339  ,  0.01689172,  0.02284173,  0.02811071,  0.03725889,\n",
       "        0.01577264,  0.02791038,  0.00696089,  0.0031886 ,  0.03267949,\n",
       "        0.01013902,  0.0187796 ,  0.03296768,  0.00366443,  0.04782045])"
      ]
     },
     "execution_count": 246,
     "metadata": {},
     "output_type": "execute_result"
    }
   ],
   "source": [
    "b=scipy.stats._multivariate.multivariate_normal.pdf(a,mean=mean,cov=cov)\n",
    "b"
   ]
  },
  {
   "cell_type": "code",
   "execution_count": 247,
   "metadata": {
    "collapsed": true
   },
   "outputs": [],
   "source": [
    "c = []\n",
    "d = []\n",
    "for i in range(len(a)):\n",
    "    c.append(a[i][0])\n",
    "    d.append(a[i][1])"
   ]
  },
  {
   "cell_type": "code",
   "execution_count": 248,
   "metadata": {},
   "outputs": [
    {
     "data": {
      "text/plain": [
       "array([[ 10.80811429,  -0.03063776],\n",
       "       [ -0.03063776,   1.10403888]])"
      ]
     },
     "execution_count": 248,
     "metadata": {},
     "output_type": "execute_result"
    }
   ],
   "source": [
    "np.cov(c,d)"
   ]
  },
  {
   "cell_type": "code",
   "execution_count": 249,
   "metadata": {},
   "outputs": [
    {
     "data": {
      "image/png": "[encoded data removed]",
      "text/plain": [
       "<matplotlib.figure.Figure at 0x10ee77f90>"
      ]
     },
     "metadata": {},
     "output_type": "display_data"
    }
   ],
   "source": [
    "plt.plot(c, d, 'x')\n",
    "plt.axis('equal')\n",
    "plt.show()"
   ]
  },
  {
   "cell_type": "code",
   "execution_count": 250,
   "metadata": {},
   "outputs": [
    {
     "data": {
      "text/plain": [
       "array([[ 1.        , -0.00886931],\n",
       "       [-0.00886931,  1.        ]])"
      ]
     },
     "execution_count": 250,
     "metadata": {},
     "output_type": "execute_result"
    }
   ],
   "source": [
    "np.corrcoef(c,d)"
   ]
  },
  {
   "cell_type": "code",
   "execution_count": null,
   "metadata": {
    "collapsed": true
   },
   "outputs": [],
   "source": []
  },
  {
   "cell_type": "code",
   "execution_count": 251,
   "metadata": {
    "collapsed": true
   },
   "outputs": [],
   "source": [
    "mean = [0, 0]\n",
    "cov = [[1, -0.75], [-0.75, 1]]"
   ]
  },
  {
   "cell_type": "code",
   "execution_count": 252,
   "metadata": {
    "scrolled": true
   },
   "outputs": [
    {
     "data": {
      "text/plain": [
       "array([[-1.05102655,  0.60566181],\n",
       "       [ 0.20473892,  0.11585227],\n",
       "       [-2.30367254,  2.25470712],\n",
       "       [ 0.19113299,  0.2886346 ],\n",
       "       [-2.84936425,  2.03361589],\n",
       "       [-1.36780983,  0.99659887],\n",
       "       [ 0.55713028, -0.16532944],\n",
       "       [-0.09778224, -0.41403944],\n",
       "       [ 0.70120257,  0.21037548],\n",
       "       [ 0.50266758,  0.44805911],\n",
       "       [ 0.4140416 , -1.04167584],\n",
       "       [ 0.63842509,  0.78532446],\n",
       "       [ 0.32611741, -1.08098256],\n",
       "       [-1.96120571,  1.10446723],\n",
       "       [-0.53720575, -0.2266011 ],\n",
       "       [ 0.08717231,  0.49485808],\n",
       "       [ 0.73820024, -0.38188911],\n",
       "       [-0.34854865,  0.2879216 ],\n",
       "       [-0.02271935, -0.54891925],\n",
       "       [ 0.74181049, -0.43138619],\n",
       "       [-0.9465056 ,  1.09467644],\n",
       "       [-0.67682483,  0.85820592],\n",
       "       [-0.53372167,  0.94036692],\n",
       "       [-0.40690819, -0.19369389],\n",
       "       [-1.41445343,  0.87802462],\n",
       "       [-0.7099475 ,  0.90512906],\n",
       "       [-1.1643206 ,  1.69511526],\n",
       "       [ 0.05050816,  0.01920897],\n",
       "       [ 0.05491485, -0.12031755],\n",
       "       [ 1.0580335 ,  0.40365034],\n",
       "       [-1.21075929,  1.58759628],\n",
       "       [ 0.18256044, -0.04611036],\n",
       "       [ 0.46643415, -0.18572664],\n",
       "       [ 0.8275387 , -0.90437548],\n",
       "       [ 0.02517   ,  0.68587454],\n",
       "       [ 1.14704255, -1.29368979],\n",
       "       [ 1.29006484, -2.04566424],\n",
       "       [-0.56754886, -0.34920813],\n",
       "       [-1.21877077,  0.01211292],\n",
       "       [-0.35445411,  0.46308914],\n",
       "       [ 0.72758321, -0.64809017],\n",
       "       [-0.2209051 , -0.29155145],\n",
       "       [-0.27886946, -0.49796301],\n",
       "       [ 1.97088662, -2.21673771],\n",
       "       [-0.07438865, -0.40674367],\n",
       "       [ 1.37990448, -1.26505961],\n",
       "       [-0.26436451, -1.00538776],\n",
       "       [ 0.37657594, -0.35437682],\n",
       "       [-1.3940833 ,  0.98799994],\n",
       "       [ 0.02486082,  0.40516782],\n",
       "       [ 1.79799465, -0.85152089],\n",
       "       [-0.52766377,  0.07879964],\n",
       "       [-0.2701911 , -0.45365216],\n",
       "       [ 1.85835905, -2.22210597],\n",
       "       [-0.84025314,  1.29473173],\n",
       "       [ 0.34995976, -0.27759256],\n",
       "       [ 1.87456115, -2.3963928 ],\n",
       "       [-0.47268341, -0.02679899],\n",
       "       [-0.1267303 ,  0.73737655],\n",
       "       [ 0.08670775,  0.22057795],\n",
       "       [ 0.39837039, -0.2219378 ],\n",
       "       [ 0.49127421, -0.31148208],\n",
       "       [ 0.91252544, -0.79346354],\n",
       "       [ 1.95606533, -1.57025887],\n",
       "       [-0.21838082,  0.05273316],\n",
       "       [ 0.29607348,  1.23126209],\n",
       "       [-0.1053391 , -0.77405843],\n",
       "       [-1.47655733,  0.45683985],\n",
       "       [ 1.086097  , -1.52781565],\n",
       "       [ 0.60131932, -0.33577584],\n",
       "       [ 0.23468263, -0.03168637],\n",
       "       [ 0.23217184,  0.07255664],\n",
       "       [-0.74472774,  0.88014891],\n",
       "       [-1.25149536,  1.08038116],\n",
       "       [-1.50402767,  0.49554363],\n",
       "       [-0.32354712, -1.05580025],\n",
       "       [-0.20520172,  0.46675218],\n",
       "       [ 1.66958515, -2.34191949],\n",
       "       [ 1.0664525 , -1.57979194],\n",
       "       [-0.76420003,  0.84385102],\n",
       "       [-0.14427919,  0.58745508],\n",
       "       [-1.08558059,  0.67188239],\n",
       "       [ 0.32852592,  0.03461112],\n",
       "       [-1.7318902 ,  1.09675683],\n",
       "       [-0.80785774,  0.05398926],\n",
       "       [-0.19915482, -0.25029318],\n",
       "       [-0.35292949,  1.90001234],\n",
       "       [-0.3427991 ,  1.4167596 ],\n",
       "       [ 0.07561954,  0.37926972],\n",
       "       [-1.47599847,  0.15547032],\n",
       "       [-1.33238696,  1.40859997],\n",
       "       [-0.19314805,  0.14648796],\n",
       "       [ 1.15152119, -1.8925156 ],\n",
       "       [ 0.37033773,  0.45723877],\n",
       "       [-0.77448149,  0.37131259],\n",
       "       [ 0.74254443, -1.18575638],\n",
       "       [-0.84821321,  1.46856601],\n",
       "       [-0.83454844, -0.48528464],\n",
       "       [-0.36870056, -0.67080493],\n",
       "       [-0.54164175,  0.97792199]])"
      ]
     },
     "execution_count": 252,
     "metadata": {},
     "output_type": "execute_result"
    }
   ],
   "source": [
    "#a= scipy.stats._multivariate.multivariate_normal.rvs(mean=mean,cov=cov, size=100)\n",
    "a= scipy.stats.multivariate_normal.rvs(mean=mean,cov=cov, size=100)\n",
    "a"
   ]
  },
  {
   "cell_type": "code",
   "execution_count": 253,
   "metadata": {
    "collapsed": true
   },
   "outputs": [],
   "source": [
    "c = []\n",
    "d = []\n",
    "for i in range(len(a)):\n",
    "    c.append(a[i][0])\n",
    "    d.append(a[i][1])"
   ]
  },
  {
   "cell_type": "code",
   "execution_count": 254,
   "metadata": {},
   "outputs": [
    {
     "data": {
      "text/plain": [
       "array([[ 0.89679154, -0.72442422],\n",
       "       [-0.72442422,  0.97584444]])"
      ]
     },
     "execution_count": 254,
     "metadata": {},
     "output_type": "execute_result"
    }
   ],
   "source": [
    "np.cov(c,d)"
   ]
  },
  {
   "cell_type": "code",
   "execution_count": 255,
   "metadata": {},
   "outputs": [
    {
     "data": {
      "image/png": "[encoded data removed]",
      "text/plain": [
       "<matplotlib.figure.Figure at 0x10f3148d0>"
      ]
     },
     "metadata": {},
     "output_type": "display_data"
    }
   ],
   "source": [
    "plt.plot(c, d, 'x')\n",
    "plt.axis('equal')\n",
    "plt.show()"
   ]
  },
  {
   "cell_type": "code",
   "execution_count": 256,
   "metadata": {},
   "outputs": [
    {
     "data": {
      "text/plain": [
       "array([[ 1.        , -0.77438497],\n",
       "       [-0.77438497,  1.        ]])"
      ]
     },
     "execution_count": 256,
     "metadata": {},
     "output_type": "execute_result"
    }
   ],
   "source": [
    "np.corrcoef(c,d)"
   ]
  },
  {
   "cell_type": "code",
   "execution_count": null,
   "metadata": {
    "collapsed": true
   },
   "outputs": [],
   "source": []
  },
  {
   "cell_type": "markdown",
   "metadata": {},
   "source": [
    "#SOLUTION 2"
   ]
  },
  {
   "cell_type": "code",
   "execution_count": 257,
   "metadata": {
    "collapsed": true
   },
   "outputs": [],
   "source": [
    "mean = [0, 0]\n",
    "cov = [[9, 0], [0, 1]]"
   ]
  },
  {
   "cell_type": "code",
   "execution_count": 258,
   "metadata": {},
   "outputs": [
    {
     "data": {
      "image/png": "[encoded data removed]",
      "text/plain": [
       "<matplotlib.figure.Figure at 0x10dbc3510>"
      ]
     },
     "metadata": {},
     "output_type": "display_data"
    }
   ],
   "source": [
    "x, y = np.mgrid[-1:1:.02, -1:1:.02]\n",
    "pos = np.empty(x.shape + (2,))\n",
    "pos[:, :, 0] = x; pos[:, :, 1] = y\n",
    "rv = scipy.stats.multivariate_normal(mean, cov)\n",
    "plt.contourf(x, y, rv.pdf(pos))\n",
    "plt.show()"
   ]
  },
  {
   "cell_type": "code",
   "execution_count": 259,
   "metadata": {},
   "outputs": [],
   "source": [
    "mean = [0, 0]\n",
    "cov = [[1, -0.75], [-0.75, 1]]"
   ]
  },
  {
   "cell_type": "code",
   "execution_count": 260,
   "metadata": {},
   "outputs": [
    {
     "data": {
      "image/png": "[encoded data removed]",
      "text/plain": [
       "<matplotlib.figure.Figure at 0x10f0a8a90>"
      ]
     },
     "metadata": {},
     "output_type": "display_data"
    }
   ],
   "source": [
    "x, y = np.mgrid[-1:1:.02, -1:1:.02]\n",
    "pos = np.empty(x.shape + (2,))\n",
    "pos[:, :, 0] = x; pos[:, :, 1] = y\n",
    "rv = scipy.stats.multivariate_normal(mean, cov)\n",
    "plt.contourf(x, y, rv.pdf(pos))\n",
    "plt.show()"
   ]
  },
  {
   "cell_type": "code",
   "execution_count": null,
   "metadata": {
    "collapsed": true
   },
   "outputs": [],
   "source": []
  },
  {
   "cell_type": "code",
   "execution_count": null,
   "metadata": {
    "collapsed": true
   },
   "outputs": [],
   "source": []
  },
  {
   "cell_type": "code",
   "execution_count": null,
   "metadata": {
    "collapsed": true
   },
   "outputs": [],
   "source": []
  }
 ],
 "metadata": {
  "kernelspec": {
   "display_name": "Python 2",
   "language": "python",
   "name": "python2"
  },
  "language_info": {
   "codemirror_mode": {
    "name": "ipython",
    "version": 2
   },
   "file_extension": ".py",
   "mimetype": "text/x-python",
   "name": "python",
   "nbconvert_exporter": "python",
   "pygments_lexer": "ipython2",
   "version": "2.7.13"
  }
 },
 "nbformat": 4,
 "nbformat_minor": 2
}
