{
 "cells": [
  {
   "cell_type": "code",
   "execution_count": 346,
   "metadata": {
    "collapsed": true
   },
   "outputs": [],
   "source": [
    "import numpy as np\n",
    "import pandas as pd\n",
    "import matplotlib.pyplot as plt"
   ]
  },
  {
   "cell_type": "code",
   "execution_count": 347,
   "metadata": {},
   "outputs": [],
   "source": [
    "cols = ['sepal_length', 'sepal_width', 'petal_length', 'petal_width', 'class']\n",
    "data = pd.read_csv(r'https://archive.ics.uci.edu/ml/machine-learning-databases/iris/iris.data', names=cols)"
   ]
  },
  {
   "cell_type": "markdown",
   "metadata": {},
   "source": [
    "# A. PCA"
   ]
  },
  {
   "cell_type": "code",
   "execution_count": 348,
   "metadata": {},
   "outputs": [
    {
     "data": {
      "text/plain": [
       "PCA(copy=True, iterated_power='auto', n_components=2, random_state=None,\n",
       "  svd_solver='auto', tol=0.0, whiten=False)"
      ]
     },
     "execution_count": 348,
     "metadata": {},
     "output_type": "execute_result"
    }
   ],
   "source": [
    "from sklearn.decomposition import PCA\n",
    "pca = PCA(n_components=2)\n",
    "pca.fit(data[['sepal_length', 'sepal_width', 'petal_length', 'petal_width']])"
   ]
  },
  {
   "cell_type": "code",
   "execution_count": 349,
   "metadata": {},
   "outputs": [],
   "source": [
    "pca_projection = pca.fit_transform(data[['sepal_length', 'sepal_width', 'petal_length', 'petal_width']])"
   ]
  },
  {
   "cell_type": "code",
   "execution_count": 350,
   "metadata": {},
   "outputs": [],
   "source": [
    "c = pd.concat([pd.DataFrame(pca_projection), pd.DataFrame(data['class'])], axis=1)"
   ]
  },
  {
   "cell_type": "code",
   "execution_count": 351,
   "metadata": {
    "scrolled": false
   },
   "outputs": [
    {
     "data": {
      "image/png": "[encoded data removed]",
      "text/plain": [
       "<matplotlib.figure.Figure at 0x11b675490>"
      ]
     },
     "metadata": {},
     "output_type": "display_data"
    }
   ],
   "source": [
    "plt.figure(figsize=(10, 10))\n",
    "plt.scatter(c[c['class']=='Iris-setosa'][0], c[c['class']=='Iris-setosa'][1], marker='o', label='Iris-setosa')\n",
    "plt.scatter(c[c['class']=='Iris-versicolor'][0], c[c['class']=='Iris-versicolor'][1], marker='x', label='Iris-versicolor')\n",
    "plt.scatter(c[c['class']=='Iris-virginica'][0], c[c['class']=='Iris-virginica'][1], marker='^', label='Iris-virginica')\n",
    "plt.legend()\n",
    "plt.show()"
   ]
  },
  {
   "cell_type": "markdown",
   "metadata": {},
   "source": [
    "# The classes are well-separated from each other"
   ]
  },
  {
   "cell_type": "code",
   "execution_count": null,
   "metadata": {},
   "outputs": [],
   "source": []
  },
  {
   "cell_type": "markdown",
   "metadata": {},
   "source": [
    "# B. Classifier based on Generative model"
   ]
  },
  {
   "cell_type": "code",
   "execution_count": 352,
   "metadata": {
    "collapsed": true
   },
   "outputs": [],
   "source": [
    "import pandas as pd\n",
    "import scipy.stats"
   ]
  },
  {
   "cell_type": "code",
   "execution_count": 353,
   "metadata": {},
   "outputs": [],
   "source": [
    "train_class_data = pd.DataFrame(columns=cols)\n",
    "test_class_data = pd.DataFrame(columns=cols)\n",
    "cls = ['Iris-setosa', 'Iris-versicolor', 'Iris-virginica'] \n",
    "for c in cls:\n",
    "    train_class_data = pd.concat([train_class_data, data[data['class']==c][0:35]])\n",
    "    test_class_data = pd.concat([test_class_data, data[data['class']==c][35:50]])\n",
    "\n",
    "test_class_label = test_class_data['class'].values.tolist()\n",
    "test_class_data = test_class_data[['sepal_length', 'sepal_width', 'petal_length', 'petal_width']].values.tolist()"
   ]
  },
  {
   "cell_type": "code",
   "execution_count": 354,
   "metadata": {},
   "outputs": [],
   "source": [
    "#Mean and Cov for each class\n",
    "class_mean = {}\n",
    "class_cov = {}\n",
    "class_prob = {}\n",
    "features = ['sepal_length', 'sepal_width', 'petal_length', 'petal_width']\n",
    "for c in cls:\n",
    "    class_cov[c] = np.cov(train_class_data[train_class_data['class']==c][features].T)\n",
    "    \n",
    "    m = []\n",
    "    for feature in features:\n",
    "        m.append(np.mean(train_class_data[train_class_data['class']==c][feature]))\n",
    "    class_mean[c] = m\n",
    "    \n",
    "    class_prob[c] = (sum(train_class_data['class']==c)+0.0)/len(train_class_data)\n",
    "    "
   ]
  },
  {
   "cell_type": "code",
   "execution_count": 355,
   "metadata": {},
   "outputs": [
    {
     "name": "stdout",
     "output_type": "stream",
     "text": [
      "Error rate =  0.0 %\n"
     ]
    }
   ],
   "source": [
    "#Gaussian model\n",
    "gaussian_model = {}\n",
    "for c in cls:\n",
    "    gaussian_model[c] = scipy.stats.multivariate_normal(class_mean[c], class_cov[c])\n",
    "    \n",
    "test_class_prob = [[np.log(class_prob[c]) + gaussian_model[c].logpdf(test_class_data[i]) for c in cls]\n",
    "                      for i in range(len(test_class_data))]\n",
    "\n",
    "class_outcome = []\n",
    "for i in range(len(test_class_prob)):\n",
    "    outcome = np.where(test_class_prob[i] == max(test_class_prob[i]))[0][0]\n",
    "    if outcome==0:\n",
    "        class_outcome.append(cls[0])\n",
    "    elif outcome==1:\n",
    "        class_outcome.append(cls[1])\n",
    "    elif outcome==2:\n",
    "        class_outcome.append(cls[2])\n",
    "\n",
    "count = sum([class_outcome[i] == test_class_label[i] for i in range(len(class_outcome))])\n",
    "print \"Error rate = \",100-((count+0.0)/len(test_class_data))*100,\"%\""
   ]
  },
  {
   "cell_type": "code",
   "execution_count": null,
   "metadata": {},
   "outputs": [],
   "source": []
  },
  {
   "cell_type": "code",
   "execution_count": null,
   "metadata": {
    "collapsed": true
   },
   "outputs": [],
   "source": []
  }
 ],
 "metadata": {
  "kernelspec": {
   "display_name": "Python 2",
   "language": "python",
   "name": "python2"
  },
  "language_info": {
   "codemirror_mode": {
    "name": "ipython",
    "version": 2
   },
   "file_extension": ".py",
   "mimetype": "text/x-python",
   "name": "python",
   "nbconvert_exporter": "python",
   "pygments_lexer": "ipython2",
   "version": "2.7.13"
  }
 },
 "nbformat": 4,
 "nbformat_minor": 2
}
